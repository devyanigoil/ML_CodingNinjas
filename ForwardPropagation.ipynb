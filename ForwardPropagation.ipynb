{
 "cells": [
  {
   "cell_type": "markdown",
   "id": "859e4b88",
   "metadata": {},
   "source": [
    "### Self implementation of simplest neural networks without a hidden layer"
   ]
  },
  {
   "cell_type": "markdown",
   "id": "89ef9027",
   "metadata": {},
   "source": [
    "The following implementation for AND Gate"
   ]
  },
  {
   "cell_type": "code",
   "execution_count": 2,
   "id": "2aaa1ba9",
   "metadata": {},
   "outputs": [],
   "source": [
    "import numpy as np"
   ]
  },
  {
   "cell_type": "code",
   "execution_count": 3,
   "id": "b9c66490",
   "metadata": {},
   "outputs": [],
   "source": [
    "X = np.array([[0,0],[0,1],[1,0],[1,1]])\n",
    "Y = np.array([[0,0,0,1]]).T"
   ]
  },
  {
   "cell_type": "code",
   "execution_count": 4,
   "id": "7dd0563c",
   "metadata": {},
   "outputs": [
    {
     "name": "stdout",
     "output_type": "stream",
     "text": [
      "(4, 2)\n",
      "(4, 1)\n"
     ]
    }
   ],
   "source": [
    "print(X.shape)\n",
    "print(Y.shape)"
   ]
  },
  {
   "cell_type": "code",
   "execution_count": 5,
   "id": "8049727e",
   "metadata": {},
   "outputs": [],
   "source": [
    "def sigmoid(z):\n",
    "    return 1/(1+np.exp(-z))"
   ]
  },
  {
   "cell_type": "code",
   "execution_count": 15,
   "id": "79a47c89",
   "metadata": {},
   "outputs": [],
   "source": [
    "def derivativesig(z):\n",
    "    return sigmoid(z)*(1-sigmoid(z))"
   ]
  },
  {
   "cell_type": "code",
   "execution_count": 25,
   "id": "ab9df20b",
   "metadata": {},
   "outputs": [
    {
     "data": {
      "text/plain": [
       "(array([[-0.84282084],\n",
       "        [-0.88831798]]),\n",
       " array([-0.43168922]))"
      ]
     },
     "execution_count": 25,
     "metadata": {},
     "output_type": "execute_result"
    }
   ],
   "source": [
    "weights = 2 * np.random.random((2,1)) - 1 #try to keep the weights between -1 and 1\n",
    "bias = 2*np.random.random((1))-1\n",
    "lr = 0.1 #learning rate\n",
    "weights,bias"
   ]
  },
  {
   "cell_type": "code",
   "execution_count": 28,
   "id": "5c9bc0d1",
   "metadata": {},
   "outputs": [
    {
     "name": "stdout",
     "output_type": "stream",
     "text": [
      "Weights: [[6.71985327]\n",
      " [6.71985327]]\n",
      "Bias: [-10.16843381]\n",
      "Output: [[3.83608875e-05]\n",
      " [3.08112189e-02]\n",
      " [3.08112189e-02]\n",
      " [9.63430040e-01]]\n"
     ]
    }
   ],
   "source": [
    "#Run the following code to get the best weights and bias\n",
    "for i in range(10000):\n",
    "    output0 = X\n",
    "    output = sigmoid(bias + np.dot(output0, weights))\n",
    "\n",
    "    first_term = output-Y #First term of error derivative\n",
    "    second_term = derivativesig(bias + np.dot(output0, weights)) #Second term of error derivative\n",
    "    first_two = first_term * second_term\n",
    "    #first_two.shape\n",
    "    changes = np.dot(output0.T,first_two) #matrix multiplication\n",
    "    weights = weights - lr*changes #updating the weights\n",
    "    bias_change = np.sum(first_two) \n",
    "    bias = bias-lr*bias_change #updating the bias\n",
    "output = sigmoid(bias + np.dot(X, weights)) #Calculating final output\n",
    "print(\"Weights:\",weights)\n",
    "print(\"Bias:\",bias)\n",
    "print(\"Output:\",output)"
   ]
  },
  {
   "cell_type": "code",
   "execution_count": null,
   "id": "d7168a6c",
   "metadata": {},
   "outputs": [],
   "source": []
  },
  {
   "cell_type": "code",
   "execution_count": null,
   "id": "92ae80fa",
   "metadata": {},
   "outputs": [],
   "source": []
  },
  {
   "cell_type": "code",
   "execution_count": null,
   "id": "8a2b1080",
   "metadata": {},
   "outputs": [],
   "source": []
  }
 ],
 "metadata": {
  "kernelspec": {
   "display_name": "Python 3",
   "language": "python",
   "name": "python3"
  },
  "language_info": {
   "codemirror_mode": {
    "name": "ipython",
    "version": 3
   },
   "file_extension": ".py",
   "mimetype": "text/x-python",
   "name": "python",
   "nbconvert_exporter": "python",
   "pygments_lexer": "ipython3",
   "version": "3.8.8"
  }
 },
 "nbformat": 4,
 "nbformat_minor": 5
}
