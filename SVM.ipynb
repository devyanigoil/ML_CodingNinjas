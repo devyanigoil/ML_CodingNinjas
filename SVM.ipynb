{
 "cells": [
  {
   "cell_type": "markdown",
   "id": "09f71c09",
   "metadata": {},
   "source": [
    "# Implementing SVM on iris dataset"
   ]
  },
  {
   "cell_type": "markdown",
   "id": "87d27cd5",
   "metadata": {},
   "source": [
    "The intuition is to increase the gap between the classification clusters. It tries to improve the cost function used in Logistic Regression. A SVM function uses similarity function. Similarity function converts n features to n' features. Using the landmark points(training data) we find a similarity function. For eg. if we have m data points and n features, we find similarity of these n features from m data points and in effect n features are converted to m dimension."
   ]
  },
  {
   "cell_type": "code",
   "execution_count": 1,
   "id": "98a66d36",
   "metadata": {},
   "outputs": [],
   "source": [
    "#Necessary imports\n",
    "import numpy as np\n",
    "from sklearn import svm,datasets\n",
    "from sklearn.model_selection import train_test_split\n",
    "import matplotlib.pyplot as plt"
   ]
  },
  {
   "cell_type": "code",
   "execution_count": 7,
   "id": "31019789",
   "metadata": {},
   "outputs": [],
   "source": [
    "#Loading the dataset\n",
    "iris = datasets.load_iris()\n",
    "x = iris.data[:,0:2]\n",
    "y = iris.target"
   ]
  },
  {
   "cell_type": "code",
   "execution_count": 8,
   "id": "ed135300",
   "metadata": {},
   "outputs": [],
   "source": [
    "#Splitting the dataset\n",
    "x_train,x_test,y_train,y_test = train_test_split(x,y)"
   ]
  },
  {
   "cell_type": "code",
   "execution_count": 9,
   "id": "3511a373",
   "metadata": {},
   "outputs": [
    {
     "data": {
      "text/plain": [
       "SVC()"
      ]
     },
     "execution_count": 9,
     "metadata": {},
     "output_type": "execute_result"
    }
   ],
   "source": [
    "#Creating a classifier\n",
    "clf = svm.SVC()\n",
    "#the default kernel is rbf\n",
    "clf.fit(x_train,y_train)"
   ]
  },
  {
   "cell_type": "code",
   "execution_count": 10,
   "id": "834f6582",
   "metadata": {},
   "outputs": [
    {
     "data": {
      "text/plain": [
       "0.7368421052631579"
      ]
     },
     "execution_count": 10,
     "metadata": {},
     "output_type": "execute_result"
    }
   ],
   "source": [
    "#Calculating the score\n",
    "clf.score(x_test,y_test)"
   ]
  },
  {
   "cell_type": "code",
   "execution_count": 11,
   "id": "4d41777c",
   "metadata": {},
   "outputs": [],
   "source": [
    "def makegrid(x1,x2,h = 0.02):\n",
    "    x1_min,x1_max = x1.min()-1,x1.max()+1\n",
    "    x2_min,x2_max = x2.min()-1,x2.max()+1\n",
    "    a = np.arange(x1_min,x1_max,h)\n",
    "    b = np.arange(x2_min,x2_max,h)\n",
    "    xx,yy = np.meshgrid(a,b) #suppose a=[1,2] and b=[3,4] we want points: [1,3][1,4][2,3][2,4]\n",
    "    #So meshgrid would give us repeated values\n",
    "    return xx,yy"
   ]
  },
  {
   "cell_type": "code",
   "execution_count": 12,
   "id": "c7fa6255",
   "metadata": {},
   "outputs": [
    {
     "data": {
      "text/plain": [
       "(array([[0.  , 0.02, 0.04, ..., 3.94, 3.96, 3.98],\n",
       "        [0.  , 0.02, 0.04, ..., 3.94, 3.96, 3.98],\n",
       "        [0.  , 0.02, 0.04, ..., 3.94, 3.96, 3.98],\n",
       "        ...,\n",
       "        [0.  , 0.02, 0.04, ..., 3.94, 3.96, 3.98],\n",
       "        [0.  , 0.02, 0.04, ..., 3.94, 3.96, 3.98],\n",
       "        [0.  , 0.02, 0.04, ..., 3.94, 3.96, 3.98]]),\n",
       " array([[4.  , 4.  , 4.  , ..., 4.  , 4.  , 4.  ],\n",
       "        [4.02, 4.02, 4.02, ..., 4.02, 4.02, 4.02],\n",
       "        [4.04, 4.04, 4.04, ..., 4.04, 4.04, 4.04],\n",
       "        ...,\n",
       "        [6.94, 6.94, 6.94, ..., 6.94, 6.94, 6.94],\n",
       "        [6.96, 6.96, 6.96, ..., 6.96, 6.96, 6.96],\n",
       "        [6.98, 6.98, 6.98, ..., 6.98, 6.98, 6.98]]))"
      ]
     },
     "execution_count": 12,
     "metadata": {},
     "output_type": "execute_result"
    }
   ],
   "source": [
    "#Just for understanding\n",
    "x1 = np.array([1,3])\n",
    "x2 = np.array([5,6])\n",
    "makegrid(x1,x2)"
   ]
  },
  {
   "cell_type": "code",
   "execution_count": 13,
   "id": "30b9b512",
   "metadata": {},
   "outputs": [
    {
     "data": {
      "image/png": "[encoded data removed]",
      "text/plain": [
       "<Figure size 432x288 with 1 Axes>"
      ]
     },
     "metadata": {
      "needs_background": "light"
     },
     "output_type": "display_data"
    }
   ],
   "source": [
    "#Plotting decision boundaries\n",
    "xx,yy = makegrid(x[:,0],x[:,1])\n",
    "predictions = clf.predict(np.c_[xx.ravel(),yy.ravel()])\n",
    "#ravel will convert everything into a 1D array and np.c_ will combine these to make pairs(points like 1,3)\n",
    "plt.scatter(xx.ravel(),yy.ravel(),c = predictions)\n",
    "plt.show()"
   ]
  },
  {
   "cell_type": "markdown",
   "id": "018c653f",
   "metadata": {},
   "source": [
    "## For Regression"
   ]
  },
  {
   "cell_type": "code",
   "execution_count": 2,
   "id": "991ddbf7",
   "metadata": {},
   "outputs": [],
   "source": [
    "#For continuous data points (Regression)\n",
    "boston = datasets.load_boston()\n",
    "X = boston.data\n",
    "Y = boston.target"
   ]
  },
  {
   "cell_type": "code",
   "execution_count": 3,
   "id": "fffb4817",
   "metadata": {},
   "outputs": [],
   "source": [
    "#splitting the dataset\n",
    "X_train,X_test,Y_train,Y_test = train_test_split(X,Y,random_state=0)"
   ]
  },
  {
   "cell_type": "code",
   "execution_count": 4,
   "id": "a20b2ed7",
   "metadata": {},
   "outputs": [
    {
     "data": {
      "text/plain": [
       "0.08369460247143334"
      ]
     },
     "execution_count": 4,
     "metadata": {},
     "output_type": "execute_result"
    }
   ],
   "source": [
    "#Creating the classifier with rbf kernel\n",
    "clf1 = svm.SVR(kernel=\"rbf\") #Using SVR instead of SVC\n",
    "clf1.fit(X_train,Y_train)\n",
    "clf1.score(X_test,Y_test)"
   ]
  },
  {
   "cell_type": "code",
   "execution_count": 5,
   "id": "ea6e01e6",
   "metadata": {},
   "outputs": [
    {
     "data": {
      "text/plain": [
       "0.5635479105806482"
      ]
     },
     "execution_count": 5,
     "metadata": {},
     "output_type": "execute_result"
    }
   ],
   "source": [
    "#Creating the classifier with linear kernel\n",
    "clf2 = svm.SVR(kernel=\"linear\") #Using SVR instead of SVC\n",
    "clf2.fit(X_train,Y_train)\n",
    "clf2.score(X_test,Y_test)"
   ]
  },
  {
   "cell_type": "code",
   "execution_count": 7,
   "id": "517adb37",
   "metadata": {},
   "outputs": [
    {
     "data": {
      "text/plain": [
       "GridSearchCV(estimator=SVR(),\n",
       "             param_grid={'C': [100.0, 1000.0, 5000.0, 10000.0, 50000.0,\n",
       "                               100000.0],\n",
       "                         'gamma': [0.0001, 0.0005, 0.0001, 0.005]})"
      ]
     },
     "execution_count": 7,
     "metadata": {},
     "output_type": "execute_result"
    }
   ],
   "source": [
    "#Demonstration with some sample data\n",
    "clf = svm.SVR()\n",
    "from sklearn.model_selection import GridSearchCV\n",
    "grid = {'C':[1e2,1e3,5e3,1e4,5e4,1e5],\n",
    "       'gamma':[1e-4,5e-4,1e-4,5e-3]}\n",
    "abc = GridSearchCV(clf,grid)\n",
    "abc.fit(X_train,Y_train)"
   ]
  },
  {
   "cell_type": "code",
   "execution_count": 8,
   "id": "083ecc88",
   "metadata": {},
   "outputs": [
    {
     "data": {
      "text/plain": [
       "SVR(C=1000.0, gamma=0.0001)"
      ]
     },
     "execution_count": 8,
     "metadata": {},
     "output_type": "execute_result"
    }
   ],
   "source": [
    "abc.best_estimator_"
   ]
  },
  {
   "cell_type": "code",
   "execution_count": 9,
   "id": "7b989458",
   "metadata": {},
   "outputs": [
    {
     "data": {
      "text/plain": [
       "0.6022138976857516"
      ]
     },
     "execution_count": 9,
     "metadata": {},
     "output_type": "execute_result"
    }
   ],
   "source": [
    "abc.score(X_test,Y_test)"
   ]
  },
  {
   "cell_type": "code",
   "execution_count": null,
   "id": "d97a3a4e",
   "metadata": {},
   "outputs": [],
   "source": []
  }
 ],
 "metadata": {
  "kernelspec": {
   "display_name": "Python 3",
   "language": "python",
   "name": "python3"
  },
  "language_info": {
   "codemirror_mode": {
    "name": "ipython",
    "version": 3
   },
   "file_extension": ".py",
   "mimetype": "text/x-python",
   "name": "python",
   "nbconvert_exporter": "python",
   "pygments_lexer": "ipython3",
   "version": "3.8.8"
  }
 },
 "nbformat": 4,
 "nbformat_minor": 5
}
