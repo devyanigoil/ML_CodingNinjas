{
 "cells": [
  {
   "cell_type": "code",
   "execution_count": 1,
   "id": "94efe451",
   "metadata": {},
   "outputs": [],
   "source": [
    "import numpy as np"
   ]
  },
  {
   "cell_type": "code",
   "execution_count": 76,
   "id": "b0479676",
   "metadata": {},
   "outputs": [
    {
     "data": {
      "text/plain": [
       "(379, 14)"
      ]
     },
     "execution_count": 76,
     "metadata": {},
     "output_type": "execute_result"
    }
   ],
   "source": [
    "train_data = np.loadtxt(\"boston_train.csv\",delimiter=\",\")\n",
    "train_data.shape\n",
    "#test_data = np.loadtxt(\"boston_test.csv\",delimiter=\",\")\n",
    "#test_data.shape"
   ]
  },
  {
   "cell_type": "code",
   "execution_count": 145,
   "id": "f138ada8",
   "metadata": {},
   "outputs": [],
   "source": [
    "def step_gradient(data,M,lr,X):\n",
    "    M_slope = np.zeros(14)\n",
    "    N = len(data)\n",
    "    for i in range(N):\n",
    "        for j in range(len(M)):\n",
    "            x = X[i,j]\n",
    "            y = data[i,13]\n",
    "            M_slope[j] += (-2/N)*(y-M[0]*X[i,0]-M[1]*X[i,1]-M[2]*X[i,2]-M[3]*X[i,3]-M[4]*X[i,4]-M[5]*X[i,5]-M[6]*X[i,6]-M[7]*X[i,7]-M[8]*X[i,8]-M[9]*X[i,9]-M[10]*X[i,10]-M[11]*X[i,11]-M[12]*X[i,12]-M[13]*X[i,13])*x\n",
    "\n",
    "    new_m = np.zeros(14)\n",
    "    for i in range(len(M)):\n",
    "        new_m[i] = M[i] - lr*M_slope[i]\n",
    "    return new_m"
   ]
  },
  {
   "cell_type": "code",
   "execution_count": 146,
   "id": "c929efca",
   "metadata": {},
   "outputs": [],
   "source": [
    "def cost(data,M,X):\n",
    "    N = len(data)\n",
    "    total_cost = 0\n",
    "    for i in range(N):\n",
    "        for j in range(len(M)):\n",
    "            x = X[i,j]\n",
    "            y = data[i,13]\n",
    "            total_cost += (1/N) * ((y-M[0]*X[i,0]-M[1]*X[i,1]-M[2]*X[i,2]-M[3]*X[i,3]-M[4]*X[i,4]-M[5]*X[i,5]-M[6]*X[i,6]-M[7]*X[i,7]-M[8]*X[i,8]-M[9]*X[i,9]-M[10]*X[i,10]-M[11]*X[i,11]-M[12]*X[i,12]-M[13]*X[i,13])**2)\n",
    "    return total_cost"
   ]
  },
  {
   "cell_type": "code",
   "execution_count": 150,
   "id": "6ff91905",
   "metadata": {},
   "outputs": [],
   "source": [
    "def gd(data,lr,iterations):\n",
    "    M = np.zeros(14)\n",
    "    N = len(data)\n",
    "    X = data[:,:13]\n",
    "    X_new = np.ones((N,14))\n",
    "    X_new[:,:-1] = X\n",
    "    for i in range(iterations):\n",
    "        M = step_gradient(data,M,lr,X_new)\n",
    "        #print(\"Cost: \",cost(data,M,X_new))\n",
    "    return M"
   ]
  },
  {
   "cell_type": "code",
   "execution_count": 151,
   "id": "ddbeded3",
   "metadata": {},
   "outputs": [],
   "source": [
    "def run(data):\n",
    "    learning_rate = 0.1\n",
    "    no_iterations = 200\n",
    "    m = gd(data,learning_rate,no_iterations)\n",
    "    #print(m,c)\n",
    "    return (m)"
   ]
  },
  {
   "cell_type": "code",
   "execution_count": 171,
   "id": "cd3ed032",
   "metadata": {},
   "outputs": [],
   "source": [
    "m = run(train_data)\n",
    "c = m[len(m)-1]\n",
    "m.resize(13)\n",
    "m_new = m.reshape(-1,1)\n",
    "#print(m_new)\n",
    "#print(m_new.shape)\n",
    "    \n",
    "Y = np.dot(test_data,m_new)+c\n",
    "np.savetxt(\"bostongdpred.csv\",Y,delimiter=\",\",fmt = \"%.5f\")"
   ]
  },
  {
   "cell_type": "code",
   "execution_count": null,
   "id": "b38b296c",
   "metadata": {},
   "outputs": [],
   "source": []
  },
  {
   "cell_type": "code",
   "execution_count": null,
   "id": "6c448c30",
   "metadata": {},
   "outputs": [],
   "source": []
  }
 ],
 "metadata": {
  "kernelspec": {
   "display_name": "Python 3",
   "language": "python",
   "name": "python3"
  },
  "language_info": {
   "codemirror_mode": {
    "name": "ipython",
    "version": 3
   },
   "file_extension": ".py",
   "mimetype": "text/x-python",
   "name": "python",
   "nbconvert_exporter": "python",
   "pygments_lexer": "ipython3",
   "version": "3.8.8"
  }
 },
 "nbformat": 4,
 "nbformat_minor": 5
}
