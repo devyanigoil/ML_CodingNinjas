{
 "cells": [
  {
   "cell_type": "code",
   "execution_count": 4,
   "id": "cb6ce77c",
   "metadata": {},
   "outputs": [],
   "source": [
    "a={\"the\":1,\"a\":5,100:\"str\"}"
   ]
  },
  {
   "cell_type": "code",
   "execution_count": 5,
   "id": "337c9496",
   "metadata": {},
   "outputs": [
    {
     "data": {
      "text/plain": [
       "{'the': 1, 'a': 5, 100: 'str'}"
      ]
     },
     "execution_count": 5,
     "metadata": {},
     "output_type": "execute_result"
    }
   ],
   "source": [
    "a"
   ]
  },
  {
   "cell_type": "code",
   "execution_count": 6,
   "id": "31d39173",
   "metadata": {},
   "outputs": [
    {
     "data": {
      "text/plain": [
       "dict"
      ]
     },
     "execution_count": 6,
     "metadata": {},
     "output_type": "execute_result"
    }
   ],
   "source": [
    "type(a)"
   ]
  },
  {
   "cell_type": "code",
   "execution_count": 7,
   "id": "4fac6cc3",
   "metadata": {},
   "outputs": [
    {
     "data": {
      "text/plain": [
       "3"
      ]
     },
     "execution_count": 7,
     "metadata": {},
     "output_type": "execute_result"
    }
   ],
   "source": [
    "len(a)"
   ]
  },
  {
   "cell_type": "code",
   "execution_count": 8,
   "id": "a88f4a3e",
   "metadata": {},
   "outputs": [],
   "source": [
    "b=a.copy()"
   ]
  },
  {
   "cell_type": "code",
   "execution_count": 9,
   "id": "f4c4a2ce",
   "metadata": {},
   "outputs": [
    {
     "data": {
      "text/plain": [
       "{'the': 1, 'a': 5, 100: 'str'}"
      ]
     },
     "execution_count": 9,
     "metadata": {},
     "output_type": "execute_result"
    }
   ],
   "source": [
    "b"
   ]
  },
  {
   "cell_type": "code",
   "execution_count": 11,
   "id": "cec80cc7",
   "metadata": {},
   "outputs": [],
   "source": [
    "c = dict([(\"the\",3),(\"a\",10),(2,3)])"
   ]
  },
  {
   "cell_type": "code",
   "execution_count": 12,
   "id": "7915dec9",
   "metadata": {},
   "outputs": [
    {
     "data": {
      "text/plain": [
       "{'the': 3, 'a': 10, 2: 3}"
      ]
     },
     "execution_count": 12,
     "metadata": {},
     "output_type": "execute_result"
    }
   ],
   "source": [
    "c"
   ]
  },
  {
   "cell_type": "code",
   "execution_count": 13,
   "id": "94d85189",
   "metadata": {},
   "outputs": [],
   "source": [
    "d = dict.fromkeys([\"abc\",32,4],10)"
   ]
  },
  {
   "cell_type": "code",
   "execution_count": 14,
   "id": "756cb935",
   "metadata": {},
   "outputs": [
    {
     "data": {
      "text/plain": [
       "{'abc': 10, 32: 10, 4: 10}"
      ]
     },
     "execution_count": 14,
     "metadata": {},
     "output_type": "execute_result"
    }
   ],
   "source": [
    "d"
   ]
  },
  {
   "cell_type": "code",
   "execution_count": 17,
   "id": "2b625e50",
   "metadata": {},
   "outputs": [],
   "source": [
    "e = {1:2, 3:4, \"list\":[1,2,3], \"dict\" : {4:5}}"
   ]
  },
  {
   "cell_type": "code",
   "execution_count": 18,
   "id": "970b96ef",
   "metadata": {},
   "outputs": [
    {
     "data": {
      "text/plain": [
       "{1: 2, 3: 4, 'list': [1, 2, 3], 'dict': {4: 5}}"
      ]
     },
     "execution_count": 18,
     "metadata": {},
     "output_type": "execute_result"
    }
   ],
   "source": [
    "e"
   ]
  },
  {
   "cell_type": "code",
   "execution_count": 20,
   "id": "845a7b73",
   "metadata": {},
   "outputs": [
    {
     "data": {
      "text/plain": [
       "[1, 2, 3]"
      ]
     },
     "execution_count": 20,
     "metadata": {},
     "output_type": "execute_result"
    }
   ],
   "source": [
    "e[\"list\"]"
   ]
  },
  {
   "cell_type": "code",
   "execution_count": 24,
   "id": "f2a542eb",
   "metadata": {},
   "outputs": [
    {
     "data": {
      "text/plain": [
       "2"
      ]
     },
     "execution_count": 24,
     "metadata": {},
     "output_type": "execute_result"
    }
   ],
   "source": [
    "e.get(1)"
   ]
  },
  {
   "cell_type": "code",
   "execution_count": 25,
   "id": "cea35355",
   "metadata": {},
   "outputs": [
    {
     "name": "stdout",
     "output_type": "stream",
     "text": [
      "None\n"
     ]
    }
   ],
   "source": [
    "print(e.get('li'))"
   ]
  },
  {
   "cell_type": "code",
   "execution_count": 26,
   "id": "0d4efc24",
   "metadata": {},
   "outputs": [],
   "source": [
    " e[\"tuple\"] = (1,2,3)"
   ]
  },
  {
   "cell_type": "code",
   "execution_count": 27,
   "id": "8cb10ddc",
   "metadata": {},
   "outputs": [
    {
     "data": {
      "text/plain": [
       "{1: 2, 3: 4, 'list': [1, 2, 3], 'dict': {4: 5}, 'tuple': (1, 2, 3)}"
      ]
     },
     "execution_count": 27,
     "metadata": {},
     "output_type": "execute_result"
    }
   ],
   "source": [
    "e"
   ]
  },
  {
   "cell_type": "code",
   "execution_count": 28,
   "id": "6d9a04e0",
   "metadata": {},
   "outputs": [],
   "source": [
    "b = {1:5,\"the\":100}"
   ]
  },
  {
   "cell_type": "code",
   "execution_count": 29,
   "id": "1e9241a7",
   "metadata": {},
   "outputs": [],
   "source": [
    "a.update(b)"
   ]
  },
  {
   "cell_type": "code",
   "execution_count": 30,
   "id": "7f2db6b0",
   "metadata": {},
   "outputs": [
    {
     "data": {
      "text/plain": [
       "{'the': 100, 'a': 5, 100: 'str', 1: 5}"
      ]
     },
     "execution_count": 30,
     "metadata": {},
     "output_type": "execute_result"
    }
   ],
   "source": [
    "a"
   ]
  },
  {
   "cell_type": "code",
   "execution_count": 32,
   "id": "66be0c19",
   "metadata": {},
   "outputs": [
    {
     "data": {
      "text/plain": [
       "100"
      ]
     },
     "execution_count": 32,
     "metadata": {},
     "output_type": "execute_result"
    }
   ],
   "source": [
    "a.pop('the')"
   ]
  },
  {
   "cell_type": "code",
   "execution_count": 33,
   "id": "a1f51d03",
   "metadata": {},
   "outputs": [
    {
     "data": {
      "text/plain": [
       "{'a': 5, 100: 'str', 1: 5}"
      ]
     },
     "execution_count": 33,
     "metadata": {},
     "output_type": "execute_result"
    }
   ],
   "source": [
    "a"
   ]
  },
  {
   "cell_type": "code",
   "execution_count": 35,
   "id": "fac61367",
   "metadata": {},
   "outputs": [],
   "source": [
    "del a['a']"
   ]
  },
  {
   "cell_type": "code",
   "execution_count": 36,
   "id": "54b437fd",
   "metadata": {},
   "outputs": [
    {
     "data": {
      "text/plain": [
       "{100: 'str', 1: 5}"
      ]
     },
     "execution_count": 36,
     "metadata": {},
     "output_type": "execute_result"
    }
   ],
   "source": [
    "a"
   ]
  },
  {
   "cell_type": "code",
   "execution_count": 37,
   "id": "e42d97fa",
   "metadata": {},
   "outputs": [],
   "source": [
    "a.clear()"
   ]
  },
  {
   "cell_type": "code",
   "execution_count": 38,
   "id": "16f7c7f6",
   "metadata": {},
   "outputs": [
    {
     "data": {
      "text/plain": [
       "{}"
      ]
     },
     "execution_count": 38,
     "metadata": {},
     "output_type": "execute_result"
    }
   ],
   "source": [
    "a"
   ]
  },
  {
   "cell_type": "code",
   "execution_count": 39,
   "id": "b4be04cd",
   "metadata": {},
   "outputs": [],
   "source": [
    "del a"
   ]
  },
  {
   "cell_type": "code",
   "execution_count": null,
   "id": "54cdc46d",
   "metadata": {},
   "outputs": [],
   "source": []
  }
 ],
 "metadata": {
  "kernelspec": {
   "display_name": "Python 3",
   "language": "python",
   "name": "python3"
  },
  "language_info": {
   "codemirror_mode": {
    "name": "ipython",
    "version": 3
   },
   "file_extension": ".py",
   "mimetype": "text/x-python",
   "name": "python",
   "nbconvert_exporter": "python",
   "pygments_lexer": "ipython3",
   "version": "3.8.8"
  }
 },
 "nbformat": 4,
 "nbformat_minor": 5
}
