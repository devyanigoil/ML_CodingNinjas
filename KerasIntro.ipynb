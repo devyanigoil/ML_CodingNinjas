{
 "cells": [
  {
   "cell_type": "code",
   "execution_count": 1,
   "id": "7e04c9b1",
   "metadata": {},
   "outputs": [],
   "source": [
    "from keras.models import Sequential\n",
    "from keras.layers import Dense"
   ]
  },
  {
   "cell_type": "code",
   "execution_count": 2,
   "id": "2c97d022",
   "metadata": {},
   "outputs": [],
   "source": [
    "#Creating a model\n",
    "model = Sequential()"
   ]
  },
  {
   "cell_type": "code",
   "execution_count": 3,
   "id": "6b0a5002",
   "metadata": {},
   "outputs": [],
   "source": [
    "#Adding Layers\n",
    "layer1 = Dense(units=32,activation = 'relu',input_dim=30)\n",
    "model.add(layer1)\n",
    "model.add(Dense(units=16,activation='relu'))\n",
    "model.add(Dense(units=1,activation='sigmoid'))"
   ]
  },
  {
   "cell_type": "code",
   "execution_count": 4,
   "id": "85836a97",
   "metadata": {},
   "outputs": [],
   "source": [
    "#Compiling the code\n",
    "model.compile(optimizer='adam',loss='binary_crossentropy',metrics=['accuracy'])"
   ]
  },
  {
   "cell_type": "code",
   "execution_count": 5,
   "id": "a9092306",
   "metadata": {},
   "outputs": [],
   "source": [
    "from sklearn import datasets\n",
    "cancer = datasets.load_breast_cancer()\n",
    "from sklearn.model_selection import train_test_split\n",
    "\n",
    "x_train,x_test,y_train,y_test = train_test_split(cancer.data,cancer.target,test_size=0.2,random_state=0)\n",
    "\n",
    "from sklearn.preprocessing import StandardScaler\n",
    "\n",
    "sc = StandardScaler()\n",
    "x_train = sc.fit_transform(x_train)\n",
    "x_test = sc.transform(x_test)"
   ]
  },
  {
   "cell_type": "code",
   "execution_count": 7,
   "id": "0d5c6a11",
   "metadata": {},
   "outputs": [
    {
     "name": "stdout",
     "output_type": "stream",
     "text": [
      "Epoch 1/20\n",
      "10/10 [==============================] - 0s 16ms/step - loss: 0.0593 - accuracy: 0.9868 - val_loss: 0.0621 - val_accuracy: 0.9825\n",
      "Epoch 2/20\n",
      "10/10 [==============================] - 0s 4ms/step - loss: 0.0574 - accuracy: 0.9868 - val_loss: 0.0606 - val_accuracy: 0.9825\n",
      "Epoch 3/20\n",
      "10/10 [==============================] - 0s 4ms/step - loss: 0.0557 - accuracy: 0.9868 - val_loss: 0.0594 - val_accuracy: 0.9825\n",
      "Epoch 4/20\n",
      "10/10 [==============================] - 0s 3ms/step - loss: 0.0542 - accuracy: 0.9868 - val_loss: 0.0585 - val_accuracy: 0.9825\n",
      "Epoch 5/20\n",
      "10/10 [==============================] - 0s 3ms/step - loss: 0.0528 - accuracy: 0.9868 - val_loss: 0.0573 - val_accuracy: 0.9825\n",
      "Epoch 6/20\n",
      "10/10 [==============================] - 0s 4ms/step - loss: 0.0515 - accuracy: 0.9868 - val_loss: 0.0566 - val_accuracy: 0.9825\n",
      "Epoch 7/20\n",
      "10/10 [==============================] - 0s 4ms/step - loss: 0.0503 - accuracy: 0.9868 - val_loss: 0.0557 - val_accuracy: 0.9825\n",
      "Epoch 8/20\n",
      "10/10 [==============================] - 0s 3ms/step - loss: 0.0493 - accuracy: 0.9868 - val_loss: 0.0545 - val_accuracy: 0.9825\n",
      "Epoch 9/20\n",
      "10/10 [==============================] - 0s 4ms/step - loss: 0.0482 - accuracy: 0.9868 - val_loss: 0.0544 - val_accuracy: 0.9825\n",
      "Epoch 10/20\n",
      "10/10 [==============================] - 0s 4ms/step - loss: 0.0473 - accuracy: 0.9890 - val_loss: 0.0541 - val_accuracy: 0.9825\n",
      "Epoch 11/20\n",
      "10/10 [==============================] - 0s 4ms/step - loss: 0.0464 - accuracy: 0.9890 - val_loss: 0.0537 - val_accuracy: 0.9825\n",
      "Epoch 12/20\n",
      "10/10 [==============================] - 0s 4ms/step - loss: 0.0455 - accuracy: 0.9890 - val_loss: 0.0533 - val_accuracy: 0.9825\n",
      "Epoch 13/20\n",
      "10/10 [==============================] - 0s 4ms/step - loss: 0.0446 - accuracy: 0.9890 - val_loss: 0.0531 - val_accuracy: 0.9825\n",
      "Epoch 14/20\n",
      "10/10 [==============================] - 0s 3ms/step - loss: 0.0437 - accuracy: 0.9890 - val_loss: 0.0527 - val_accuracy: 0.9825\n",
      "Epoch 15/20\n",
      "10/10 [==============================] - 0s 4ms/step - loss: 0.0429 - accuracy: 0.9890 - val_loss: 0.0506 - val_accuracy: 0.9825\n",
      "Epoch 16/20\n",
      "10/10 [==============================] - 0s 3ms/step - loss: 0.0422 - accuracy: 0.9890 - val_loss: 0.0503 - val_accuracy: 0.9825\n",
      "Epoch 17/20\n",
      "10/10 [==============================] - 0s 4ms/step - loss: 0.0415 - accuracy: 0.9890 - val_loss: 0.0507 - val_accuracy: 0.9825\n",
      "Epoch 18/20\n",
      "10/10 [==============================] - 0s 4ms/step - loss: 0.0409 - accuracy: 0.9890 - val_loss: 0.0522 - val_accuracy: 0.9825\n",
      "Epoch 19/20\n",
      "10/10 [==============================] - 0s 4ms/step - loss: 0.0399 - accuracy: 0.9890 - val_loss: 0.0527 - val_accuracy: 0.9825\n",
      "Epoch 20/20\n",
      "10/10 [==============================] - 0s 4ms/step - loss: 0.0389 - accuracy: 0.9890 - val_loss: 0.0514 - val_accuracy: 0.9825\n"
     ]
    },
    {
     "data": {
      "text/plain": [
       "<keras.callbacks.History at 0x7f3c2c874af0>"
      ]
     },
     "execution_count": 7,
     "metadata": {},
     "output_type": "execute_result"
    }
   ],
   "source": [
    "model.fit(x_train,y_train,epochs=20,batch_size=50,validation_data=(x_test,y_test))"
   ]
  },
  {
   "cell_type": "code",
   "execution_count": 9,
   "id": "3b4fbd00",
   "metadata": {},
   "outputs": [
    {
     "name": "stdout",
     "output_type": "stream",
     "text": [
      "4/4 [==============================] - 0s 1ms/step - loss: 0.0514 - accuracy: 0.9825\n"
     ]
    },
    {
     "data": {
      "text/plain": [
       "[0.05138606205582619, 0.9824561476707458]"
      ]
     },
     "execution_count": 9,
     "metadata": {},
     "output_type": "execute_result"
    }
   ],
   "source": [
    "predictions = model.predict(x_test)\n",
    "score = model.evaluate(x_test,y_test)\n",
    "score\n",
    "#Score provides the loss and then the metrics that we provided during compilation"
   ]
  },
  {
   "cell_type": "code",
   "execution_count": null,
   "id": "5bd37997",
   "metadata": {},
   "outputs": [],
   "source": []
  }
 ],
 "metadata": {
  "kernelspec": {
   "display_name": "Python 3",
   "language": "python",
   "name": "python3"
  },
  "language_info": {
   "codemirror_mode": {
    "name": "ipython",
    "version": 3
   },
   "file_extension": ".py",
   "mimetype": "text/x-python",
   "name": "python",
   "nbconvert_exporter": "python",
   "pygments_lexer": "ipython3",
   "version": "3.8.8"
  }
 },
 "nbformat": 4,
 "nbformat_minor": 5
}
