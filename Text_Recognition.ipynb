{
 "cells": [
  {
   "cell_type": "code",
   "execution_count": 28,
   "id": "b15ca44d",
   "metadata": {},
   "outputs": [
    {
     "name": "stdout",
     "output_type": "stream",
     "text": [
      "(60000, 28, 28) (60000,)\n"
     ]
    }
   ],
   "source": [
    "from tensorflow import keras\n",
    "#from keras.utils import np_utils\n",
    "from keras.datasets import mnist\n",
    "from keras.models import Sequential\n",
    "from keras.layers import Dense, Dropout, Flatten\n",
    "from keras.layers import Conv2D, MaxPooling2D\n",
    "from keras import backend as K\n",
    "# the data, split between train and test sets\n",
    "(x_train, y_train), (x_test, y_test) = mnist.load_data()\n",
    "print(x_train.shape, y_train.shape)"
   ]
  },
  {
   "cell_type": "code",
   "execution_count": 29,
   "id": "26163b4b",
   "metadata": {},
   "outputs": [],
   "source": [
    "import numpy as np"
   ]
  },
  {
   "cell_type": "code",
   "execution_count": 30,
   "id": "2271a7cb",
   "metadata": {},
   "outputs": [],
   "source": [
    "batch_size = 128\n",
    "num_classes = 10\n",
    "epochs = 10"
   ]
  },
  {
   "cell_type": "code",
   "execution_count": 32,
   "id": "64220b8c",
   "metadata": {},
   "outputs": [
    {
     "name": "stdout",
     "output_type": "stream",
     "text": [
      "x_train shape: (60000, 28, 28, 1)\n",
      "60000 train samples\n",
      "10000 test samples\n"
     ]
    }
   ],
   "source": [
    "x_train = x_train.reshape(x_train.shape[0], 28, 28, 1)\n",
    "x_test = x_test.reshape(x_test.shape[0], 28, 28, 1)\n",
    "input_shape = (28, 28, 1)\n",
    "# convert class vectors to binary class matrices\n",
    "y_train = keras.utils.to_categorical(y_train, num_classes)\n",
    "y_test = keras.utils.to_categorical(y_test, num_classes)\n",
    "x_train = x_train.astype('float32')\n",
    "x_test = x_test.astype('float32')\n",
    "x_train /= 255\n",
    "x_test /= 255\n",
    "print('x_train shape:', x_train.shape)\n",
    "print(x_train.shape[0], 'train samples')\n",
    "print(x_test.shape[0], 'test samples')\n"
   ]
  },
  {
   "cell_type": "code",
   "execution_count": 33,
   "id": "a6ea7fc1",
   "metadata": {},
   "outputs": [],
   "source": [
    "model = Sequential()\n",
    "model.add(Conv2D(32, kernel_size=(3, 3),activation='relu',input_shape=input_shape))\n",
    "model.add(Conv2D(64, (3, 3), activation='relu'))\n",
    "model.add(MaxPooling2D(pool_size=(2, 2)))\n",
    "model.add(Dropout(0.25))\n",
    "model.add(Flatten())\n",
    "model.add(Dense(256, activation='relu'))\n",
    "model.add(Dropout(0.5))\n",
    "model.add(Dense(num_classes, activation='softmax'))\n"
   ]
  },
  {
   "cell_type": "code",
   "execution_count": 34,
   "id": "10cd1986",
   "metadata": {},
   "outputs": [],
   "source": [
    "model.compile(loss=keras.losses.categorical_crossentropy,optimizer=keras.optimizers.Adadelta(),metrics=['accuracy'])"
   ]
  },
  {
   "cell_type": "code",
   "execution_count": 35,
   "id": "fbe47c82",
   "metadata": {},
   "outputs": [
    {
     "name": "stdout",
     "output_type": "stream",
     "text": [
      "Epoch 1/10\n",
      "469/469 [==============================] - 59s 124ms/step - loss: 2.2889 - accuracy: 0.1282 - val_loss: 2.2492 - val_accuracy: 0.3343\n",
      "Epoch 2/10\n",
      "469/469 [==============================] - 66s 140ms/step - loss: 2.2245 - accuracy: 0.2589 - val_loss: 2.1718 - val_accuracy: 0.5791\n",
      "Epoch 3/10\n",
      "469/469 [==============================] - 65s 138ms/step - loss: 2.1429 - accuracy: 0.3999 - val_loss: 2.0672 - val_accuracy: 0.6824\n",
      "Epoch 4/10\n",
      "469/469 [==============================] - 71s 150ms/step - loss: 2.0303 - accuracy: 0.5006 - val_loss: 1.9196 - val_accuracy: 0.7421\n",
      "Epoch 5/10\n",
      "469/469 [==============================] - 77s 165ms/step - loss: 1.8731 - accuracy: 0.5704 - val_loss: 1.7199 - val_accuracy: 0.7672\n",
      "Epoch 6/10\n",
      "469/469 [==============================] - 65s 139ms/step - loss: 1.6750 - accuracy: 0.6125 - val_loss: 1.4780 - val_accuracy: 0.7852\n",
      "Epoch 7/10\n",
      "469/469 [==============================] - 70s 150ms/step - loss: 1.4594 - accuracy: 0.6474 - val_loss: 1.2318 - val_accuracy: 0.8044\n",
      "Epoch 8/10\n",
      "469/469 [==============================] - 65s 138ms/step - loss: 1.2588 - accuracy: 0.6795 - val_loss: 1.0231 - val_accuracy: 0.8178\n",
      "Epoch 9/10\n",
      "469/469 [==============================] - 61s 130ms/step - loss: 1.1043 - accuracy: 0.6997 - val_loss: 0.8664 - val_accuracy: 0.8273\n",
      "Epoch 10/10\n",
      "469/469 [==============================] - 61s 131ms/step - loss: 0.9835 - accuracy: 0.7216 - val_loss: 0.7531 - val_accuracy: 0.8369\n",
      "The model has successfully trained\n",
      "Saving the model as mnist.h5\n"
     ]
    }
   ],
   "source": [
    "hist = model.fit(x_train, y_train,batch_size=batch_size,epochs=epochs,verbose=1,validation_data=(x_test, y_test))\n",
    "print(\"The model has successfully trained\")\n",
    "model.save('mnist.h5')\n",
    "print(\"Saving the model as mnist.h5\")"
   ]
  },
  {
   "cell_type": "code",
   "execution_count": 36,
   "id": "6e33afa6",
   "metadata": {},
   "outputs": [
    {
     "name": "stdout",
     "output_type": "stream",
     "text": [
      "Test loss: 0.7531428337097168\n",
      "Test accuracy: 0.836899995803833\n"
     ]
    }
   ],
   "source": [
    "score = model.evaluate(x_test, y_test, verbose=0)\n",
    "print('Test loss:', score[0])\n",
    "print('Test accuracy:', score[1])"
   ]
  },
  {
   "cell_type": "code",
   "execution_count": null,
   "id": "d727c6d9",
   "metadata": {},
   "outputs": [],
   "source": []
  }
 ],
 "metadata": {
  "kernelspec": {
   "display_name": "Python 3",
   "language": "python",
   "name": "python3"
  },
  "language_info": {
   "codemirror_mode": {
    "name": "ipython",
    "version": 3
   },
   "file_extension": ".py",
   "mimetype": "text/x-python",
   "name": "python",
   "nbconvert_exporter": "python",
   "pygments_lexer": "ipython3",
   "version": "3.8.8"
  }
 },
 "nbformat": 4,
 "nbformat_minor": 5
}
