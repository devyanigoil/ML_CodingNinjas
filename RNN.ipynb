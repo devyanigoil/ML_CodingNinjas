{
 "cells": [
  {
   "cell_type": "code",
   "execution_count": 17,
   "id": "72a82c53",
   "metadata": {},
   "outputs": [],
   "source": [
    "import pandas as pd\n",
    "import numpy as np"
   ]
  },
  {
   "cell_type": "code",
   "execution_count": 5,
   "id": "7456368f",
   "metadata": {},
   "outputs": [],
   "source": [
    "df = pd.read_csv(\"international-airline-passengers.csv\",usecols=[1])"
   ]
  },
  {
   "cell_type": "code",
   "execution_count": 6,
   "id": "b4fa07a1",
   "metadata": {},
   "outputs": [
    {
     "data": {
      "text/html": [
       "<div>\n",
       "<style scoped>\n",
       "    .dataframe tbody tr th:only-of-type {\n",
       "        vertical-align: middle;\n",
       "    }\n",
       "\n",
       "    .dataframe tbody tr th {\n",
       "        vertical-align: top;\n",
       "    }\n",
       "\n",
       "    .dataframe thead th {\n",
       "        text-align: right;\n",
       "    }\n",
       "</style>\n",
       "<table border=\"1\" class=\"dataframe\">\n",
       "  <thead>\n",
       "    <tr style=\"text-align: right;\">\n",
       "      <th></th>\n",
       "      <th>International airline passengers: monthly totals in thousands. Jan 49 ? Dec 60</th>\n",
       "    </tr>\n",
       "  </thead>\n",
       "  <tbody>\n",
       "    <tr>\n",
       "      <th>count</th>\n",
       "      <td>144.000000</td>\n",
       "    </tr>\n",
       "    <tr>\n",
       "      <th>mean</th>\n",
       "      <td>280.298611</td>\n",
       "    </tr>\n",
       "    <tr>\n",
       "      <th>std</th>\n",
       "      <td>119.966317</td>\n",
       "    </tr>\n",
       "    <tr>\n",
       "      <th>min</th>\n",
       "      <td>104.000000</td>\n",
       "    </tr>\n",
       "    <tr>\n",
       "      <th>25%</th>\n",
       "      <td>180.000000</td>\n",
       "    </tr>\n",
       "    <tr>\n",
       "      <th>50%</th>\n",
       "      <td>265.500000</td>\n",
       "    </tr>\n",
       "    <tr>\n",
       "      <th>75%</th>\n",
       "      <td>360.500000</td>\n",
       "    </tr>\n",
       "    <tr>\n",
       "      <th>max</th>\n",
       "      <td>622.000000</td>\n",
       "    </tr>\n",
       "  </tbody>\n",
       "</table>\n",
       "</div>"
      ],
      "text/plain": [
       "       International airline passengers: monthly totals in thousands. Jan 49 ? Dec 60\n",
       "count                                         144.000000                             \n",
       "mean                                          280.298611                             \n",
       "std                                           119.966317                             \n",
       "min                                           104.000000                             \n",
       "25%                                           180.000000                             \n",
       "50%                                           265.500000                             \n",
       "75%                                           360.500000                             \n",
       "max                                           622.000000                             "
      ]
     },
     "execution_count": 6,
     "metadata": {},
     "output_type": "execute_result"
    }
   ],
   "source": [
    "df.describe()"
   ]
  },
  {
   "cell_type": "code",
   "execution_count": 7,
   "id": "764df846",
   "metadata": {},
   "outputs": [],
   "source": [
    "values = df.values.astype('float32')"
   ]
  },
  {
   "cell_type": "code",
   "execution_count": 8,
   "id": "52f46a10",
   "metadata": {},
   "outputs": [
    {
     "data": {
      "text/plain": [
       "(144, 1)"
      ]
     },
     "execution_count": 8,
     "metadata": {},
     "output_type": "execute_result"
    }
   ],
   "source": [
    "values.shape"
   ]
  },
  {
   "cell_type": "code",
   "execution_count": 15,
   "id": "eaa8c210",
   "metadata": {},
   "outputs": [],
   "source": [
    "train_size = int((values.shape[0]*0.67))\n",
    "test_size = values.shape[0] - train_size\n",
    "train = values[0:train_size]\n",
    "test = values[train_size:]"
   ]
  },
  {
   "cell_type": "code",
   "execution_count": 16,
   "id": "24b4b933",
   "metadata": {},
   "outputs": [],
   "source": [
    "from sklearn.preprocessing import MinMaxScaler\n",
    "scaler = MinMaxScaler(feature_range = (0,1))\n",
    "train = scaler.fit_transform(train)\n",
    "test = scaler.transform(test)"
   ]
  },
  {
   "cell_type": "code",
   "execution_count": 20,
   "id": "f2778d75",
   "metadata": {},
   "outputs": [],
   "source": [
    "def create_dataset(data,k):\n",
    "    dataX,dataY = [],[]\n",
    "    for i in range(data.shape[0]-k):\n",
    "        x = data[i:i+k]\n",
    "        y = data[i+k,0]\n",
    "        dataX.append(x)\n",
    "        dataY.append(y)\n",
    "    return np.array(dataX),np.array(dataY)"
   ]
  },
  {
   "cell_type": "code",
   "execution_count": 27,
   "id": "2a76b05c",
   "metadata": {},
   "outputs": [],
   "source": [
    "#Notice that in the dataset below there are values above 1 as well but we had already scaled it to range 0 to 1\n",
    "#This is because this is the test data and values can be out of range here\n",
    "look_back = 12\n",
    "testX,testY = create_dataset(test,look_back)\n",
    "trainX,trainY = create_dataset(train,look_back)"
   ]
  },
  {
   "cell_type": "code",
   "execution_count": 28,
   "id": "99d9f5a5",
   "metadata": {},
   "outputs": [
    {
     "data": {
      "text/plain": [
       "(84, 12, 1)"
      ]
     },
     "execution_count": 28,
     "metadata": {},
     "output_type": "execute_result"
    }
   ],
   "source": [
    "#Reshaping the data for the RNN model\n",
    "#The shape should be 3D - no. of inputs, lookback, no. of features\n",
    "trainX = np.reshape(trainX,(trainX.shape[0],trainX.shape[1],1))\n",
    "testX = np.reshape(testX,(testX.shape[0],testX.shape[1],1))\n",
    "trainX.shape"
   ]
  },
  {
   "cell_type": "code",
   "execution_count": 29,
   "id": "e7161d80",
   "metadata": {},
   "outputs": [],
   "source": [
    "from keras.models import Sequential\n",
    "from keras.layers import SimpleRNN, Dense"
   ]
  },
  {
   "cell_type": "code",
   "execution_count": 31,
   "id": "ecabf94d",
   "metadata": {},
   "outputs": [
    {
     "name": "stdout",
     "output_type": "stream",
     "text": [
      "Epoch 1/10\n",
      "84/84 [==============================] - 1s 2ms/step - loss: 0.2986\n",
      "Epoch 2/10\n",
      "84/84 [==============================] - 0s 2ms/step - loss: 0.0453\n",
      "Epoch 3/10\n",
      "84/84 [==============================] - 0s 2ms/step - loss: 0.0222\n",
      "Epoch 4/10\n",
      "84/84 [==============================] - 0s 2ms/step - loss: 0.0159\n",
      "Epoch 5/10\n",
      "84/84 [==============================] - 0s 2ms/step - loss: 0.0122\n",
      "Epoch 6/10\n",
      "84/84 [==============================] - 0s 2ms/step - loss: 0.0111\n",
      "Epoch 7/10\n",
      "84/84 [==============================] - 0s 2ms/step - loss: 0.0096\n",
      "Epoch 8/10\n",
      "84/84 [==============================] - 0s 2ms/step - loss: 0.0096\n",
      "Epoch 9/10\n",
      "84/84 [==============================] - 0s 2ms/step - loss: 0.0087\n",
      "Epoch 10/10\n",
      "84/84 [==============================] - 0s 1ms/step - loss: 0.0079\n"
     ]
    },
    {
     "data": {
      "text/plain": [
       "<keras.callbacks.History at 0x7fa15c410490>"
      ]
     },
     "execution_count": 31,
     "metadata": {},
     "output_type": "execute_result"
    }
   ],
   "source": [
    "model = Sequential()\n",
    "model.add(SimpleRNN(4,input_shape=(look_back,1)))\n",
    "model.add(Dense(1))\n",
    "model.compile(loss = 'mean_squared_error',optimizer = 'adam')\n",
    "model.fit(trainX,trainY,epochs=10,batch_size=1)"
   ]
  },
  {
   "cell_type": "code",
   "execution_count": 42,
   "id": "afc56940",
   "metadata": {},
   "outputs": [
    {
     "data": {
      "text/plain": [
       "((36,), (36,))"
      ]
     },
     "execution_count": 42,
     "metadata": {},
     "output_type": "execute_result"
    }
   ],
   "source": [
    "#ravel is used to convert to 1D\n",
    "test_predict = model.predict(testX)\n",
    "test_predict = scaler.inverse_transform(test_predict).ravel()\n",
    "\n",
    "train_predict = model.predict(trainX)\n",
    "train_predict = scaler.inverse_transform(train_predict).ravel()\n",
    "\n",
    "testTrue = scaler.inverse_transform([testY]).ravel()\n",
    "trainTrue = scaler.inverse_transform([trainY]).ravel()\n",
    "\n",
    "test_predict.shape,testTrue.shape"
   ]
  },
  {
   "cell_type": "code",
   "execution_count": 43,
   "id": "9e18c037",
   "metadata": {},
   "outputs": [],
   "source": [
    "from matplotlib import pyplot as plt"
   ]
  },
  {
   "cell_type": "code",
   "execution_count": 44,
   "id": "7572008a",
   "metadata": {},
   "outputs": [
    {
     "data": {
      "image/png": "[encoded data removed]",
      "text/plain": [
       "<Figure size 432x288 with 1 Axes>"
      ]
     },
     "metadata": {
      "needs_background": "light"
     },
     "output_type": "display_data"
    }
   ],
   "source": [
    "plt.plot(trainTrue,c='g')\n",
    "plt.plot(train_predict,c='b')\n",
    "plt.show()"
   ]
  },
  {
   "cell_type": "code",
   "execution_count": 45,
   "id": "8314a538",
   "metadata": {},
   "outputs": [
    {
     "data": {
      "image/png": "[encoded data removed]",
      "text/plain": [
       "<Figure size 432x288 with 1 Axes>"
      ]
     },
     "metadata": {
      "needs_background": "light"
     },
     "output_type": "display_data"
    }
   ],
   "source": [
    "combined_pred = np.concatenate((train_predict,test_predict))\n",
    "combined_true = np.concatenate((testTrue,testTrue))\n",
    "plt.plot(combined_pred,c='g')\n",
    "plt.plot(combined_true,c='b')\n",
    "plt.show()"
   ]
  },
  {
   "cell_type": "code",
   "execution_count": null,
   "id": "79a75a3b",
   "metadata": {},
   "outputs": [],
   "source": []
  }
 ],
 "metadata": {
  "kernelspec": {
   "display_name": "Python 3",
   "language": "python",
   "name": "python3"
  },
  "language_info": {
   "codemirror_mode": {
    "name": "ipython",
    "version": 3
   },
   "file_extension": ".py",
   "mimetype": "text/x-python",
   "name": "python",
   "nbconvert_exporter": "python",
   "pygments_lexer": "ipython3",
   "version": "3.8.8"
  }
 },
 "nbformat": 4,
 "nbformat_minor": 5
}
