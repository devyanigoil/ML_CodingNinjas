{
 "cells": [
  {
   "cell_type": "code",
   "execution_count": 1,
   "id": "7583c66e",
   "metadata": {},
   "outputs": [],
   "source": [
    "import numpy as np"
   ]
  },
  {
   "cell_type": "code",
   "execution_count": 2,
   "id": "5aad0cb7",
   "metadata": {},
   "outputs": [],
   "source": [
    "data = np.loadtxt(\"data.csv\",delimiter=\",\")"
   ]
  },
  {
   "cell_type": "code",
   "execution_count": 3,
   "id": "38d39cb1",
   "metadata": {},
   "outputs": [
    {
     "data": {
      "text/plain": [
       "(100, 2)"
      ]
     },
     "execution_count": 3,
     "metadata": {},
     "output_type": "execute_result"
    }
   ],
   "source": [
    "data.shape\n"
   ]
  },
  {
   "cell_type": "code",
   "execution_count": 4,
   "id": "7ad725ee",
   "metadata": {},
   "outputs": [],
   "source": [
    "x = data[:,0]\n",
    "y = data[:,1]"
   ]
  },
  {
   "cell_type": "code",
   "execution_count": 12,
   "id": "e7098408",
   "metadata": {},
   "outputs": [],
   "source": [
    "from sklearn import model_selection\n",
    "x_train,x_test,y_train,y_test = model_selection.train_test_split(x,y,test_size=0.1)"
   ]
  },
  {
   "cell_type": "code",
   "execution_count": 14,
   "id": "dd3d3f61",
   "metadata": {},
   "outputs": [
    {
     "name": "stdout",
     "output_type": "stream",
     "text": [
      "m,c:  1.2891528141036221 9.55496849454331\n",
      "Test Score  0.8526559150894036\n",
      "Train Score  0.544613002156255\n",
      "Cost on training data:  114.80827709712592\n"
     ]
    }
   ],
   "source": [
    "def fit(x,y):\n",
    "    m = ((x*y).mean() - (x.mean() * y.mean()))/((x*x).mean()-x.mean()*x.mean())\n",
    "    c = y.mean() - m*(x.mean())\n",
    "    return m,c\n",
    "\n",
    "def predict(x,m,c):\n",
    "    return m*x+c\n",
    "\n",
    "def score(y_true,y_pred):\n",
    "    u = ((y_true-y_pred)**2).sum()\n",
    "    v = ((y_true-y_true.mean())**2).sum()\n",
    "    score = 1 - (u/v)\n",
    "    return score\n",
    "\n",
    "def cost(x,y,m,c):\n",
    "    #can return ((y-m*x-c)**2).sum() also\n",
    "    #we have taken mean but it won't make a difference on our calculations\n",
    "    return ((y-m*x-c)**2).mean()\n",
    "    \n",
    "m,c = fit(x_train,y_train)\n",
    "print(\"m,c: \",m,c)\n",
    "y_test_pred = predict(x_test,m,c)\n",
    "print(\"Test Score \",score(y_test,y_test_pred))\n",
    "\n",
    "y_train_pred = predict(x_train,m,c)\n",
    "print(\"Train Score \",score(y_train,y_train_pred))\n",
    "\n",
    "cost_train = cost(x_train,y_train,m,c)\n",
    "print(\"Cost on training data: \",cost_train)"
   ]
  },
  {
   "cell_type": "code",
   "execution_count": null,
   "id": "f7e2ff7a",
   "metadata": {},
   "outputs": [],
   "source": []
  }
 ],
 "metadata": {
  "kernelspec": {
   "display_name": "Python 3",
   "language": "python",
   "name": "python3"
  },
  "language_info": {
   "codemirror_mode": {
    "name": "ipython",
    "version": 3
   },
   "file_extension": ".py",
   "mimetype": "text/x-python",
   "name": "python",
   "nbconvert_exporter": "python",
   "pygments_lexer": "ipython3",
   "version": "3.8.8"
  }
 },
 "nbformat": 4,
 "nbformat_minor": 5
}
