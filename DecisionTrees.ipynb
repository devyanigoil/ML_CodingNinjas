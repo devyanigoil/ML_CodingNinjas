{
 "cells": [
  {
   "cell_type": "markdown",
   "id": "975d14c6",
   "metadata": {},
   "source": [
    "# Implementing Decision Trees with inbuilt  Classifier"
   ]
  },
  {
   "cell_type": "markdown",
   "id": "f13dd6f9",
   "metadata": {},
   "source": [
    "Decision Trees split the data on a certain feature. In this example, the feature that has a lower value of gini index (a metric) is chosen first to split upon. The gini index value is between 0 and 1 and is calculated as (1-summation of pi^2 for every class). Lower the gini index, lower the impurity. "
   ]
  },
  {
   "cell_type": "code",
   "execution_count": 1,
   "id": "079950e3",
   "metadata": {},
   "outputs": [],
   "source": [
    "#Necessary imports\n",
    "from sklearn import datasets\n",
    "from sklearn.tree import DecisionTreeClassifier\n",
    "from sklearn.tree import export_graphviz\n",
    "from sklearn.model_selection import train_test_split"
   ]
  },
  {
   "cell_type": "code",
   "execution_count": 2,
   "id": "3690d83b",
   "metadata": {},
   "outputs": [
    {
     "name": "stdout",
     "output_type": "stream",
     "text": [
      "(112, 4)\n"
     ]
    }
   ],
   "source": [
    "#Loading and splitting the dataset\n",
    "iris = datasets.load_iris()\n",
    "x_train,x_test,y_train,y_test = train_test_split(iris.data,iris.target,random_state=1)\n",
    "print(x_train.shape)"
   ]
  },
  {
   "cell_type": "code",
   "execution_count": 3,
   "id": "d23d927f",
   "metadata": {},
   "outputs": [
    {
     "data": {
      "text/plain": [
       "DecisionTreeClassifier()"
      ]
     },
     "execution_count": 3,
     "metadata": {},
     "output_type": "execute_result"
    }
   ],
   "source": [
    "#Creating the classifier and fitting the training data\n",
    "clf = DecisionTreeClassifier()\n",
    "clf.fit(x_train,y_train)"
   ]
  },
  {
   "cell_type": "code",
   "execution_count": 6,
   "id": "899b1cbe",
   "metadata": {},
   "outputs": [
    {
     "data": {
      "text/plain": [
       "True"
      ]
     },
     "execution_count": 6,
     "metadata": {},
     "output_type": "execute_result"
    }
   ],
   "source": [
    "#Pydotplus library helps us plotting the data like a tree\n",
    "#Graphviz is used to represent structural information such as diagrams of abstract graphs and networks\n",
    "import pydotplus\n",
    "dot_data = export_graphviz(clf,out_file=None,feature_names = iris.feature_names,class_names = iris.target_names)\n",
    "graph = pydotplus.graph_from_dot_data(dot_data)\n",
    "graph.write_pdf(\"iris.pdf\")"
   ]
  },
  {
   "cell_type": "code",
   "execution_count": 7,
   "id": "9b206d0c",
   "metadata": {},
   "outputs": [],
   "source": [
    "#Importing some metrics\n",
    "from sklearn.metrics import confusion_matrix"
   ]
  },
  {
   "cell_type": "code",
   "execution_count": 8,
   "id": "985633d6",
   "metadata": {},
   "outputs": [],
   "source": [
    "#Predicting values for training and testing data\n",
    "y_train_pred = clf.predict(x_train)\n",
    "y_test_pred = clf.predict(x_test)"
   ]
  },
  {
   "cell_type": "code",
   "execution_count": 9,
   "id": "ee51b447",
   "metadata": {},
   "outputs": [
    {
     "data": {
      "text/plain": [
       "array([[37,  0,  0],\n",
       "       [ 0, 34,  0],\n",
       "       [ 0,  0, 41]])"
      ]
     },
     "execution_count": 9,
     "metadata": {},
     "output_type": "execute_result"
    }
   ],
   "source": [
    "#Printing the confusion matrix for training data\n",
    "confusion_matrix(y_train,y_train_pred)"
   ]
  },
  {
   "cell_type": "code",
   "execution_count": 10,
   "id": "ef75b746",
   "metadata": {},
   "outputs": [
    {
     "data": {
      "text/plain": [
       "array([[13,  0,  0],\n",
       "       [ 0, 15,  1],\n",
       "       [ 0,  0,  9]])"
      ]
     },
     "execution_count": 10,
     "metadata": {},
     "output_type": "execute_result"
    }
   ],
   "source": [
    "#Printing the confusion matrix for testing data\n",
    "confusion_matrix(y_test,y_test_pred)"
   ]
  },
  {
   "cell_type": "code",
   "execution_count": 11,
   "id": "e7b00e32",
   "metadata": {},
   "outputs": [
    {
     "data": {
      "text/plain": [
       "DecisionTreeClassifier()"
      ]
     },
     "execution_count": 11,
     "metadata": {},
     "output_type": "execute_result"
    }
   ],
   "source": [
    "#Fitting the classifier with OR gate information \n",
    "or_x_train=[[0,0],\n",
    "          [0,1],\n",
    "          [1,0],\n",
    "          [1,1]]\n",
    "or_y_train = [0,1,1,1]\n",
    "clf.fit(or_x_train,or_y_train)"
   ]
  },
  {
   "cell_type": "code",
   "execution_count": 12,
   "id": "ab8d05e0",
   "metadata": {},
   "outputs": [
    {
     "data": {
      "text/plain": [
       "True"
      ]
     },
     "execution_count": 12,
     "metadata": {},
     "output_type": "execute_result"
    }
   ],
   "source": [
    "#Plotting the data in a tree format to get more clarity\n",
    "dot_data = export_graphviz(clf,out_file=None)\n",
    "graph = pydotplus.graph_from_dot_data(dot_data)\n",
    "graph.write_pdf(\"OR.pdf\")"
   ]
  },
  {
   "cell_type": "code",
   "execution_count": null,
   "id": "608604ed",
   "metadata": {},
   "outputs": [],
   "source": []
  }
 ],
 "metadata": {
  "kernelspec": {
   "display_name": "Python 3",
   "language": "python",
   "name": "python3"
  },
  "language_info": {
   "codemirror_mode": {
    "name": "ipython",
    "version": 3
   },
   "file_extension": ".py",
   "mimetype": "text/x-python",
   "name": "python",
   "nbconvert_exporter": "python",
   "pygments_lexer": "ipython3",
   "version": "3.8.8"
  }
 },
 "nbformat": 4,
 "nbformat_minor": 5
}
