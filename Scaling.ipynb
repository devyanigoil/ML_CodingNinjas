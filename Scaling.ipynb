{
 "cells": [
  {
   "cell_type": "code",
   "execution_count": 2,
   "id": "3ba3ef71",
   "metadata": {},
   "outputs": [],
   "source": [
    "import numpy as np\n",
    "from sklearn.preprocessing import StandardScaler"
   ]
  },
  {
   "cell_type": "code",
   "execution_count": 14,
   "id": "62378a41",
   "metadata": {},
   "outputs": [
    {
     "data": {
      "text/plain": [
       "StandardScaler()"
      ]
     },
     "execution_count": 14,
     "metadata": {},
     "output_type": "execute_result"
    }
   ],
   "source": [
    "scaler = StandardScaler()\n",
    "data = [[0,3],[9,4],[2,7],[1,1]]\n",
    "scaler.fit(data)"
   ]
  },
  {
   "cell_type": "code",
   "execution_count": 15,
   "id": "165ecea6",
   "metadata": {},
   "outputs": [
    {
     "data": {
      "text/plain": [
       "array([[-0.84852814, -0.34641016],\n",
       "       [ 1.69705627,  0.11547005],\n",
       "       [-0.28284271,  1.5011107 ],\n",
       "       [-0.56568542, -1.27017059]])"
      ]
     },
     "execution_count": 15,
     "metadata": {},
     "output_type": "execute_result"
    }
   ],
   "source": [
    "first = scaler.transform(data) #x-u/s is the formula used where x is sample,u is mean,s is standard deviation\n",
    "#The transformation happen FEATURE WISE so mean and std are calculated feature wise\n",
    "first"
   ]
  },
  {
   "cell_type": "code",
   "execution_count": 8,
   "id": "0a174772",
   "metadata": {},
   "outputs": [
    {
     "name": "stdout",
     "output_type": "stream",
     "text": [
      "0.0\n"
     ]
    }
   ],
   "source": [
    "print(first.sum())"
   ]
  },
  {
   "cell_type": "code",
   "execution_count": 10,
   "id": "ba139f56",
   "metadata": {},
   "outputs": [
    {
     "data": {
      "text/plain": [
       "array([[-0.28284271,  4.27239199],\n",
       "       [-0.56568542,  0.11547005],\n",
       "       [ 1.97989899,  1.5011107 ],\n",
       "       [-0.56568542,  2.42487113]])"
      ]
     },
     "execution_count": 10,
     "metadata": {},
     "output_type": "execute_result"
    }
   ],
   "source": [
    "second = scaler.transform([[2,13],[1,4],[10,7],[1,9]])\n",
    "second"
   ]
  },
  {
   "cell_type": "code",
   "execution_count": 11,
   "id": "1abc780c",
   "metadata": {},
   "outputs": [
    {
     "name": "stdout",
     "output_type": "stream",
     "text": [
      "8.879529301279849\n"
     ]
    }
   ],
   "source": [
    "print(second.sum())"
   ]
  },
  {
   "cell_type": "code",
   "execution_count": 17,
   "id": "a789e64d",
   "metadata": {},
   "outputs": [
    {
     "name": "stdout",
     "output_type": "stream",
     "text": [
      "[3.   3.75]\n",
      "[3.53553391 2.16506351]\n"
     ]
    }
   ],
   "source": [
    "data = np.array([[0,3],[9,4],[2,7],[1,1]])\n",
    "print(data.mean(axis=0))\n",
    "print(np.std(data,axis=0))"
   ]
  },
  {
   "cell_type": "code",
   "execution_count": null,
   "id": "ecf7382f",
   "metadata": {},
   "outputs": [],
   "source": []
  }
 ],
 "metadata": {
  "kernelspec": {
   "display_name": "Python 3",
   "language": "python",
   "name": "python3"
  },
  "language_info": {
   "codemirror_mode": {
    "name": "ipython",
    "version": 3
   },
   "file_extension": ".py",
   "mimetype": "text/x-python",
   "name": "python",
   "nbconvert_exporter": "python",
   "pygments_lexer": "ipython3",
   "version": "3.8.8"
  }
 },
 "nbformat": 4,
 "nbformat_minor": 5
}
