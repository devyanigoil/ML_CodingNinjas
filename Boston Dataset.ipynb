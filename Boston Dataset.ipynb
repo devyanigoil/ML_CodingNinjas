{
 "cells": [
  {
   "cell_type": "code",
   "execution_count": 4,
   "id": "d6300079",
   "metadata": {},
   "outputs": [],
   "source": [
    "from sklearn import datasets"
   ]
  },
  {
   "cell_type": "code",
   "execution_count": 5,
   "id": "75cb903b",
   "metadata": {},
   "outputs": [],
   "source": [
    "boston = datasets.load_boston()\n",
    "X = boston.data\n",
    "Y = boston.target"
   ]
  },
  {
   "cell_type": "code",
   "execution_count": 6,
   "id": "f2f765a6",
   "metadata": {},
   "outputs": [
    {
     "data": {
      "text/plain": [
       "(506, 13)"
      ]
     },
     "execution_count": 6,
     "metadata": {},
     "output_type": "execute_result"
    }
   ],
   "source": [
    "X.shape"
   ]
  },
  {
   "cell_type": "code",
   "execution_count": 7,
   "id": "d32b9e93",
   "metadata": {},
   "outputs": [
    {
     "name": "stdout",
     "output_type": "stream",
     "text": [
      "['CRIM' 'ZN' 'INDUS' 'CHAS' 'NOX' 'RM' 'AGE' 'DIS' 'RAD' 'TAX' 'PTRATIO'\n",
      " 'B' 'LSTAT']\n"
     ]
    },
    {
     "data": {
      "text/plain": [
       "(506, 26)"
      ]
     },
     "execution_count": 7,
     "metadata": {},
     "output_type": "execute_result"
    }
   ],
   "source": [
    "import pandas as pd\n",
    "df = pd.DataFrame(X)\n",
    "print(boston.feature_names)\n",
    "df.columns = boston.feature_names\n",
    "df[\"crim_crim\"] = (df.CRIM) ** 2\n",
    "df[\"zn_zn\"] = (df.ZN) ** 2\n",
    "df[\"indus_indus\"] = (df.INDUS) ** 2\n",
    "df[\"chas_chas\"] = (df.CHAS) ** 2\n",
    "df[\"nox_nox\"] = (df.NOX) ** 2\n",
    "df[\"rm_rm\"] = (df.RM) ** 2\n",
    "df[\"age_age\"] = (df.AGE) ** 2\n",
    "df[\"dis_dis\"] = (df.DIS) ** 2\n",
    "df[\"rad_rad\"] = (df.RAD) ** 2\n",
    "df[\"tax_tax\"] = (df.TAX) ** 2\n",
    "df[\"pt_pt\"] = (df.PTRATIO) ** 2\n",
    "df[\"b_b\"] = (df.B) ** 2\n",
    "df[\"lstat_lstat\"] = (df.LSTAT) ** 2\n",
    "df.describe()\n",
    "\n",
    "X2 = df.values\n",
    "X2.shape"
   ]
  },
  {
   "cell_type": "code",
   "execution_count": 8,
   "id": "b3156e7b",
   "metadata": {},
   "outputs": [],
   "source": [
    "from sklearn import model_selection\n",
    "X_train, X_test,Y_train,Y_test = model_selection.train_test_split(X,Y,random_state=0)\n",
    "X2_train, X2_test,Y2_train,Y2_test = model_selection.train_test_split(X2,Y,random_state=0)"
   ]
  },
  {
   "cell_type": "code",
   "execution_count": 9,
   "id": "6342879d",
   "metadata": {},
   "outputs": [],
   "source": [
    "from sklearn.linear_model import LinearRegression\n",
    "alg1 = LinearRegression()\n",
    "alg2 = LinearRegression()"
   ]
  },
  {
   "cell_type": "code",
   "execution_count": 10,
   "id": "8dce9efd",
   "metadata": {},
   "outputs": [
    {
     "data": {
      "text/plain": [
       "LinearRegression()"
      ]
     },
     "execution_count": 10,
     "metadata": {},
     "output_type": "execute_result"
    }
   ],
   "source": [
    "alg1.fit(X_train,Y_train)\n",
    "alg2.fit(X2_train,Y2_train)"
   ]
  },
  {
   "cell_type": "code",
   "execution_count": 11,
   "id": "b4cd1870",
   "metadata": {},
   "outputs": [
    {
     "name": "stdout",
     "output_type": "stream",
     "text": [
      "Train Score:  0.7697699488741149\n",
      "Test Score:  0.6354638433202129\n",
      "Train2 Score:  0.8596413794910498\n",
      "Test2 Score:  0.7200918269122947\n"
     ]
    }
   ],
   "source": [
    "#Y_pred = alg1.predict(X_test)\n",
    "score_train = alg1.score(X_train,Y_train)\n",
    "score_test = alg1.score(X_test,Y_test)\n",
    "score2_train = alg2.score(X2_train,Y2_train)\n",
    "score2_test = alg2.score(X2_test,Y2_test)\n",
    "print(\"Train Score: \",score_train)\n",
    "print(\"Test Score: \",score_test)\n",
    "#After adding 13 more deatures the scores improved\n",
    "print(\"Train2 Score: \",score2_train)\n",
    "print(\"Test2 Score: \",score2_test)"
   ]
  },
  {
   "cell_type": "code",
   "execution_count": 24,
   "id": "40c8600e",
   "metadata": {},
   "outputs": [
    {
     "data": {
      "image/png": "[encoded data removed]",
      "text/plain": [
       "<Figure size 432x288 with 1 Axes>"
      ]
     },
     "metadata": {
      "needs_background": "light"
     },
     "output_type": "display_data"
    }
   ],
   "source": [
    "import matplotlib.pyplot as plt\n",
    "plt.scatter(Y_test,Y_pred)\n",
    "plt.axis([0,40,0,40])\n",
    "plt.show()"
   ]
  },
  {
   "cell_type": "code",
   "execution_count": null,
   "id": "802ae43d",
   "metadata": {},
   "outputs": [],
   "source": []
  }
 ],
 "metadata": {
  "kernelspec": {
   "display_name": "Python 3",
   "language": "python",
   "name": "python3"
  },
  "language_info": {
   "codemirror_mode": {
    "name": "ipython",
    "version": 3
   },
   "file_extension": ".py",
   "mimetype": "text/x-python",
   "name": "python",
   "nbconvert_exporter": "python",
   "pygments_lexer": "ipython3",
   "version": "3.8.8"
  }
 },
 "nbformat": 4,
 "nbformat_minor": 5
}
