{
 "cells": [
  {
   "cell_type": "code",
   "execution_count": 1,
   "id": "d6678d04",
   "metadata": {},
   "outputs": [],
   "source": [
    "import numpy as np"
   ]
  },
  {
   "cell_type": "code",
   "execution_count": 2,
   "id": "5e573b45",
   "metadata": {},
   "outputs": [
    {
     "data": {
      "text/plain": [
       "((4, 2), (4, 1))"
      ]
     },
     "execution_count": 2,
     "metadata": {},
     "output_type": "execute_result"
    }
   ],
   "source": [
    "X = np.array([[0,0],[0,1],[1,0],[1,1]])\n",
    "Y = np.array([[0,1,1,0]]).T\n",
    "X.shape, Y.shape"
   ]
  },
  {
   "cell_type": "code",
   "execution_count": 3,
   "id": "1313cb7b",
   "metadata": {},
   "outputs": [],
   "source": [
    "def sigmoid(z):\n",
    "    return 1/(1+np.exp(-z))"
   ]
  },
  {
   "cell_type": "code",
   "execution_count": 4,
   "id": "781c64d2",
   "metadata": {},
   "outputs": [],
   "source": [
    "def derivativesig(z):\n",
    "    return sigmoid(z)*(1-sigmoid(z))"
   ]
  },
  {
   "cell_type": "code",
   "execution_count": 8,
   "id": "31e4b8d6",
   "metadata": {},
   "outputs": [],
   "source": [
    "#one hidden layer\n",
    "wh = 2*np.random.random((2,2)) - 1 #for input layer to hidden layer inputs\n",
    "bh = 2*np.random.random((1,2)) - 1 #for input layer to hidden layer bias\n",
    "wo = 2*np.random.random((2,1)) - 1 #for hidden layer to output layer inputs\n",
    "bo = 2*np.random.random((1,1)) - 1 #for hidden layer to output layer bias\n",
    "lr = 0.1"
   ]
  },
  {
   "cell_type": "code",
   "execution_count": 10,
   "id": "2ae7fccf",
   "metadata": {},
   "outputs": [
    {
     "data": {
      "text/plain": [
       "array([[0.68191741],\n",
       "       [0.6810096 ],\n",
       "       [0.68157579],\n",
       "       [0.6806804 ]])"
      ]
     },
     "execution_count": 10,
     "metadata": {},
     "output_type": "execute_result"
    }
   ],
   "source": [
    "output0 = X\n",
    "inputhidden = sigmoid(np.dot(output0,wh)+bh)\n",
    "outputhidden = sigmoid(inputhidden)\n",
    "inputoutputlayer = sigmoid(np.dot(outputhidden,wo)+bo) \n",
    "output = sigmoid(inputoutputlayer)\n",
    "output"
   ]
  },
  {
   "cell_type": "code",
   "execution_count": null,
   "id": "d8295a77",
   "metadata": {},
   "outputs": [],
   "source": []
  }
 ],
 "metadata": {
  "kernelspec": {
   "display_name": "Python 3",
   "language": "python",
   "name": "python3"
  },
  "language_info": {
   "codemirror_mode": {
    "name": "ipython",
    "version": 3
   },
   "file_extension": ".py",
   "mimetype": "text/x-python",
   "name": "python",
   "nbconvert_exporter": "python",
   "pygments_lexer": "ipython3",
   "version": "3.8.8"
  }
 },
 "nbformat": 4,
 "nbformat_minor": 5
}
