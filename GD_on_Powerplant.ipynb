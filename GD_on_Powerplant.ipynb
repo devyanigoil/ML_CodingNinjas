{
 "cells": [
  {
   "cell_type": "code",
   "execution_count": 1,
   "id": "f0d6e09c",
   "metadata": {},
   "outputs": [],
   "source": [
    "import numpy as np"
   ]
  },
  {
   "cell_type": "code",
   "execution_count": 281,
   "id": "9cf6fe96",
   "metadata": {},
   "outputs": [
    {
     "data": {
      "text/plain": [
       "(2392, 4)"
      ]
     },
     "execution_count": 281,
     "metadata": {},
     "output_type": "execute_result"
    }
   ],
   "source": [
    "train_data = np.loadtxt(\"Power_plant_train.csv\",delimiter=\",\")\n",
    "train_data.shape\n",
    "test_data = np.loadtxt(\"Power_plant_test.csv\",delimiter=\",\")\n",
    "test_data.shape"
   ]
  },
  {
   "cell_type": "code",
   "execution_count": 282,
   "id": "7271140a",
   "metadata": {},
   "outputs": [],
   "source": [
    "def step_gradient(data,M,lr,X):\n",
    "    M_slope = np.zeros(5)\n",
    "    N = len(data)\n",
    "    for i in range(N):\n",
    "        for j in range(len(M)):\n",
    "            x = X[i,j]\n",
    "            y = data[i,4]\n",
    "            M_slope[j] += (-2/N)*(y-M[0]*X[i,0]-M[1]*X[i,1]-M[2]*X[i,2]-M[3]*X[i,3]-M[4]*X[i,4])*x\n",
    "\n",
    "    new_m = np.zeros(5)\n",
    "    for i in range(len(M)):\n",
    "        new_m[i] = M[i] - lr*M_slope[i]\n",
    "    return new_m"
   ]
  },
  {
   "cell_type": "code",
   "execution_count": 283,
   "id": "6b2715b1",
   "metadata": {},
   "outputs": [],
   "source": [
    "def cost(data,M,X):\n",
    "    N = len(data)\n",
    "    total_cost = 0\n",
    "    for i in range(N):\n",
    "        for j in range(len(M)):\n",
    "            x = X[i,j]\n",
    "            y = data[i,4]\n",
    "            total_cost += (1/N) * ((y-M[0]*X[i,0]-M[1]*X[i,1]-M[2]*X[i,2]-M[3]*X[i,3]-M[4]*X[i,4])**2)\n",
    "    return total_cost"
   ]
  },
  {
   "cell_type": "code",
   "execution_count": 296,
   "id": "c74f26de",
   "metadata": {},
   "outputs": [],
   "source": [
    "def gd(data,lr,iterations):\n",
    "    M = np.zeros(5)\n",
    "    N = len(data)\n",
    "    X = data[:,:4]\n",
    "    X_new = np.ones((N,5))\n",
    "    X_new[:,:-1] = X\n",
    "    for i in range(iterations):\n",
    "        M = step_gradient(data,M,lr,X_new)\n",
    "        #print(\"Cost: \",end=\"\")\n",
    "        #print('%.2f'%cost(data,M,X_new))\n",
    "    return M[:-1],M[-1]"
   ]
  },
  {
   "cell_type": "code",
   "execution_count": 312,
   "id": "b4ab87e4",
   "metadata": {},
   "outputs": [],
   "source": [
    "def run(data):\n",
    "    learning_rate = 0.00000092\n",
    "    no_iterations = 1500\n",
    "    m,c = gd(data,learning_rate,no_iterations)\n",
    "    print(m,c)\n",
    "    return (m,c)"
   ]
  },
  {
   "cell_type": "code",
   "execution_count": 313,
   "id": "eb705b12",
   "metadata": {},
   "outputs": [],
   "source": [
    "#import pandas as pd\n",
    "#df = pd.DataFrame(train_data)\n",
    "#y = pd.DataFrame(train_data)\n",
    "#del df[4]\n",
    "#for i in range(4):\n",
    "#    df[4+i] = df[i]*df[i]\n",
    "\n",
    "#df[8] = y[4]\n",
    "#data = df.to_numpy()\n",
    "\n",
    "#data = train_data\n",
    "#for i in range(5):\n",
    "#    df[i] = (df[i]-df[i].mean())/(df[i].std())\n",
    "\n",
    "#data = df.to_numpy()\n",
    "\n",
    "#data = train_data\n",
    "#np.set_printoptions(precision=5,suppress=True)\n",
    "#data\n",
    "#run(train_data)\n"
   ]
  },
  {
   "cell_type": "code",
   "execution_count": 314,
   "id": "e8071a48",
   "metadata": {},
   "outputs": [
    {
     "name": "stdout",
     "output_type": "stream",
     "text": [
      "[-0.22265 -0.33937  0.4586   0.17142] 0.0003771373209098853\n",
      "[465.31522 462.73735 443.28158 ... 450.61955 456.43939 456.57446]\n"
     ]
    }
   ],
   "source": [
    "m,c = run(train_data)\n",
    "#m_new = m.copy()\n",
    "#m_new.resize(4)\n",
    "#m_new.reshape(-1,1)\n",
    "\n",
    "#df_test = pd.DataFrame(test_data)\n",
    "#for i in range(4):\n",
    "#    df_test[4+i] = df_test[i]*df_test[i]\n",
    "#test_data = df_test.to_numpy()\n",
    "\n",
    "Y = np.dot(test_data,m)+c\n",
    "print(Y)\n",
    "np.savetxt(\"PP_pred.csv\",Y,delimiter=\",\",fmt = \"%.5f\")"
   ]
  },
  {
   "cell_type": "code",
   "execution_count": null,
   "id": "88390cde",
   "metadata": {},
   "outputs": [],
   "source": []
  }
 ],
 "metadata": {
  "kernelspec": {
   "display_name": "Python 3",
   "language": "python",
   "name": "python3"
  },
  "language_info": {
   "codemirror_mode": {
    "name": "ipython",
    "version": 3
   },
   "file_extension": ".py",
   "mimetype": "text/x-python",
   "name": "python",
   "nbconvert_exporter": "python",
   "pygments_lexer": "ipython3",
   "version": "3.8.8"
  }
 },
 "nbformat": 4,
 "nbformat_minor": 5
}
