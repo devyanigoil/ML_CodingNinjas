{
 "cells": [
  {
   "cell_type": "code",
   "execution_count": 1,
   "id": "ab530f79",
   "metadata": {},
   "outputs": [],
   "source": [
    "import numpy as np"
   ]
  },
  {
   "cell_type": "code",
   "execution_count": 2,
   "id": "9503aec6",
   "metadata": {},
   "outputs": [
    {
     "data": {
      "text/plain": [
       "(2392, 4)"
      ]
     },
     "execution_count": 2,
     "metadata": {},
     "output_type": "execute_result"
    }
   ],
   "source": [
    "train_data = np.loadtxt(\"Power_plant_train.csv\",delimiter=\",\")\n",
    "train_data.shape\n",
    "test_data = np.loadtxt(\"Power_plant_test.csv\",delimiter=\",\")\n",
    "test_data.shape"
   ]
  },
  {
   "cell_type": "code",
   "execution_count": 4,
   "id": "650b10de",
   "metadata": {},
   "outputs": [],
   "source": [
    "x_train = train_data[:,:4]\n",
    "y_train = train_data[:,4]"
   ]
  },
  {
   "cell_type": "code",
   "execution_count": 5,
   "id": "50bfb0cf",
   "metadata": {},
   "outputs": [
    {
     "data": {
      "text/plain": [
       "LinearRegression()"
      ]
     },
     "execution_count": 5,
     "metadata": {},
     "output_type": "execute_result"
    }
   ],
   "source": [
    "from sklearn.linear_model import LinearRegression\n",
    "alg1 = LinearRegression()\n",
    "alg1.fit(x_train,y_train)"
   ]
  },
  {
   "cell_type": "code",
   "execution_count": 8,
   "id": "0d007895",
   "metadata": {},
   "outputs": [
    {
     "name": "stdout",
     "output_type": "stream",
     "text": [
      "[469.95711113 471.76632733 433.85647002 ... 439.13871988 450.65930697\n",
      " 447.27281902]\n"
     ]
    }
   ],
   "source": [
    "y_pred = alg1.predict(test_data)\n",
    "print(y_pred)\n",
    "np.savetxt(\"PP_pred_LR.csv\",y_pred,delimiter=\",\",fmt = \"%.5f\")"
   ]
  },
  {
   "cell_type": "code",
   "execution_count": null,
   "id": "865c4132",
   "metadata": {},
   "outputs": [],
   "source": []
  }
 ],
 "metadata": {
  "kernelspec": {
   "display_name": "Python 3",
   "language": "python",
   "name": "python3"
  },
  "language_info": {
   "codemirror_mode": {
    "name": "ipython",
    "version": 3
   },
   "file_extension": ".py",
   "mimetype": "text/x-python",
   "name": "python",
   "nbconvert_exporter": "python",
   "pygments_lexer": "ipython3",
   "version": "3.8.8"
  }
 },
 "nbformat": 4,
 "nbformat_minor": 5
}
