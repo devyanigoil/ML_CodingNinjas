{
 "cells": [
  {
   "cell_type": "markdown",
   "id": "8bc03eb5",
   "metadata": {},
   "source": [
    "## Implemented Naive Bayes from Scratch"
   ]
  },
  {
   "cell_type": "markdown",
   "id": "26fbcbd4",
   "metadata": {},
   "source": [
    "#### The intuition is to build a two level dictionary using which we calculate probability and classify each test data point."
   ]
  },
  {
   "cell_type": "code",
   "execution_count": 2,
   "id": "7d04160b",
   "metadata": {},
   "outputs": [],
   "source": [
    "#Necessary Imports\n",
    "import numpy as np\n",
    "from sklearn import datasets\n",
    "from sklearn import model_selection\n",
    "from sklearn.metrics import classification_report, confusion_matrix"
   ]
  },
  {
   "cell_type": "code",
   "execution_count": 3,
   "id": "9c0c0392",
   "metadata": {},
   "outputs": [],
   "source": [
    "#This function constructs a two level dictionary \n",
    "#result[class_names][feature_num][feature_value]=no. of items\n",
    "def fit(X_train,Y_train):\n",
    "    result={}\n",
    "    class_values = set(Y_train)\n",
    "    for current_class in class_values:\n",
    "        result[current_class] = {}\n",
    "        result[\"total_data\"] = len(Y_train)\n",
    "        current_class_rows = (Y_train==current_class)\n",
    "        X_train_current = X_train[current_class_rows]\n",
    "        Y_train_current = Y_train[current_class_rows]\n",
    "        num_features = X_train.shape[1]\n",
    "        result[current_class][\"total_count\"] = len(Y_train_current)\n",
    "        for j in range(1,num_features+1):\n",
    "            result[current_class][j-1] = {}\n",
    "            all_possible_values = set(X_train[:,j-1])\n",
    "            for current_value in all_possible_values:\n",
    "                result[current_class][j-1][current_value] = (X_train_current[:,j-1]==current_value).sum()\n",
    "    return result"
   ]
  },
  {
   "cell_type": "code",
   "execution_count": 20,
   "id": "410e2b72",
   "metadata": {},
   "outputs": [
    {
     "data": {
      "text/plain": [
       "'def probability(dictionary,x,current_class):\\n    output = dictionary[current_class][\"total_count\"]/dictionary[\"total_data\"]\\n    num_features = len(dictionary[current_class].keys())-1\\n    for j in range(1,num_features+1):\\n        xj = x[j-1]\\n        count_current_class_with_value_xj = dictionary[current_class][j][xj]+1 #LaPlace Correction\\n        count_current_class = dictionary[current_class][\"total_count\"] + len(dictionary[current_class][j-1].keys())\\n        current_xj_prob = count_current_class_with_value_xj/count_current_class\\n        output = output*current_xj_prob\\n    return output'"
      ]
     },
     "execution_count": 20,
     "metadata": {},
     "output_type": "execute_result"
    }
   ],
   "source": [
    "#Read this before the next cell\n",
    "\"\"\"def probability(dictionary,x,current_class):\n",
    "    output = dictionary[current_class][\"total_count\"]/dictionary[\"total_data\"]\n",
    "    num_features = len(dictionary[current_class].keys())-1\n",
    "    for j in range(1,num_features+1):\n",
    "        xj = x[j-1]\n",
    "        count_current_class_with_value_xj = dictionary[current_class][j][xj]+1 #LaPlace Correction\n",
    "        count_current_class = dictionary[current_class][\"total_count\"] + len(dictionary[current_class][j-1].keys())\n",
    "        current_xj_prob = count_current_class_with_value_xj/count_current_class\n",
    "        output = output*current_xj_prob\n",
    "    return output\"\"\""
   ]
  },
  {
   "cell_type": "code",
   "execution_count": 4,
   "id": "600056d7",
   "metadata": {},
   "outputs": [],
   "source": [
    "#Calculating the probability for the current class p = count of current class with value x[j]/count of current class\n",
    "#The output probability can be negative so take log\n",
    "def probability(dictionary,x,current_class):\n",
    "    #probability of choosing this current class\n",
    "    output = np.log(dictionary[current_class][\"total_count\"])-np.log(dictionary[\"total_data\"]) \n",
    "    num_features = len(dictionary[current_class].keys())-1\n",
    "    for j in range(1,num_features+1):\n",
    "        xj = x[j-1]\n",
    "        count_current_class_with_value_xj = dictionary[current_class][j-1][xj]+1 #LaPlace Correction (takes care of zero probability)\n",
    "        count_current_class = dictionary[current_class][\"total_count\"] + len(dictionary[current_class][j-1].keys())\n",
    "        current_xj_prob = np.log(count_current_class_with_value_xj)-np.log(count_current_class)\n",
    "        output = output+current_xj_prob\n",
    "    return output"
   ]
  },
  {
   "cell_type": "code",
   "execution_count": 5,
   "id": "f83340ab",
   "metadata": {},
   "outputs": [],
   "source": [
    "#This function calculates the probability for each class and then returns the class with best probability\n",
    "def predictSinglePoint(dictionary,x):\n",
    "    classes = dictionary.keys()\n",
    "    best_p=-1000\n",
    "    best_class = -1\n",
    "    first_run = True\n",
    "    for current_class in classes:\n",
    "        if current_class==\"total_data\":\n",
    "            continue\n",
    "        p_current_class = probability(dictionary,x,current_class)\n",
    "        if first_run or p_current_class > best_p:\n",
    "            best_p = p_current_class\n",
    "            best_class = current_class\n",
    "        first_run = False\n",
    "    return best_class"
   ]
  },
  {
   "cell_type": "code",
   "execution_count": 6,
   "id": "74f6b5fb",
   "metadata": {},
   "outputs": [],
   "source": [
    "#This function broadly predicts the class for every datapoint x in x_test\n",
    "def predict(dictionary,X_test):\n",
    "    y_pred = []\n",
    "    for x in X_test:\n",
    "        x_class = predictSinglePoint(dictionary,x)\n",
    "        y_pred.append(x_class)\n",
    "    return y_pred"
   ]
  },
  {
   "cell_type": "code",
   "execution_count": 7,
   "id": "abea7e59",
   "metadata": {},
   "outputs": [],
   "source": [
    "#Labelling the continuous data to discrete values\n",
    "def makeLabel(column):\n",
    "    second_limit = column.mean();\n",
    "    first_limit = 0.5*second_limit\n",
    "    third_limit = 1.5*second_limit\n",
    "    for i in range(0,len(column)):\n",
    "        if column[i] < first_limit:\n",
    "            column[i]=0\n",
    "        elif column[i] < second_limit:\n",
    "            column[i]=1\n",
    "        elif column[i] < third_limit:\n",
    "            column[i]=2\n",
    "        else: \n",
    "            column[i]=3\n",
    "    return column"
   ]
  },
  {
   "cell_type": "code",
   "execution_count": 8,
   "id": "6cf21021",
   "metadata": {},
   "outputs": [],
   "source": [
    "#Loading the iris dataset \n",
    "iris = datasets.load_iris()\n",
    "X = iris.data\n",
    "Y = iris.target"
   ]
  },
  {
   "cell_type": "code",
   "execution_count": 9,
   "id": "9d92c533",
   "metadata": {},
   "outputs": [],
   "source": [
    "#Converting the continuous data into discrete values for each column\n",
    "for i in range(0,X.shape[1]):\n",
    "    X[:,i] = makeLabel(X[:,i]) "
   ]
  },
  {
   "cell_type": "code",
   "execution_count": 10,
   "id": "ccdb49ee",
   "metadata": {},
   "outputs": [],
   "source": [
    "#Splitting the dataset\n",
    "X_train,X_test,Y_train,Y_test = model_selection.train_test_split(X,Y,test_size = 0.25,random_state = 0)"
   ]
  },
  {
   "cell_type": "code",
   "execution_count": 11,
   "id": "8a50547c",
   "metadata": {},
   "outputs": [],
   "source": [
    "#Getting the dictionay using the fit function that we made above\n",
    "dictionary = fit(X_train,Y_train)"
   ]
  },
  {
   "cell_type": "code",
   "execution_count": 12,
   "id": "509d7700",
   "metadata": {},
   "outputs": [],
   "source": [
    "#Getting the predcited values of y \n",
    "y_pred = predict(dictionary,X_test)"
   ]
  },
  {
   "cell_type": "code",
   "execution_count": 13,
   "id": "61826b90",
   "metadata": {},
   "outputs": [
    {
     "name": "stdout",
     "output_type": "stream",
     "text": [
      "              precision    recall  f1-score   support\n",
      "\n",
      "           0       1.00      1.00      1.00        13\n",
      "           1       0.94      1.00      0.97        16\n",
      "           2       1.00      0.89      0.94         9\n",
      "\n",
      "    accuracy                           0.97        38\n",
      "   macro avg       0.98      0.96      0.97        38\n",
      "weighted avg       0.98      0.97      0.97        38\n",
      "\n",
      "[[13  0  0]\n",
      " [ 0 16  0]\n",
      " [ 0  1  8]]\n"
     ]
    }
   ],
   "source": [
    "#Some Analysis on the classification\n",
    "print(classification_report(Y_test,y_pred))\n",
    "print(confusion_matrix(Y_test,y_pred))"
   ]
  },
  {
   "cell_type": "code",
   "execution_count": 14,
   "id": "7a84b8e1",
   "metadata": {},
   "outputs": [],
   "source": [
    "#Importing and splitting the dataset again to test with the inbuilt Gaussian Naive Bayes Classifier\n",
    "from sklearn import datasets\n",
    "iris = datasets.load_iris()\n",
    "X = iris.data\n",
    "Y = iris.target"
   ]
  },
  {
   "cell_type": "code",
   "execution_count": 15,
   "id": "134d6bd4",
   "metadata": {},
   "outputs": [],
   "source": [
    "from sklearn import model_selection\n",
    "X_train,X_test,Y_train,Y_test = model_selection.train_test_split(X,Y,test_size = 0.25,random_state = 0)"
   ]
  },
  {
   "cell_type": "code",
   "execution_count": 16,
   "id": "78e046e4",
   "metadata": {},
   "outputs": [
    {
     "name": "stdout",
     "output_type": "stream",
     "text": [
      "              precision    recall  f1-score   support\n",
      "\n",
      "           0       1.00      1.00      1.00        13\n",
      "           1       1.00      1.00      1.00        16\n",
      "           2       1.00      1.00      1.00         9\n",
      "\n",
      "    accuracy                           1.00        38\n",
      "   macro avg       1.00      1.00      1.00        38\n",
      "weighted avg       1.00      1.00      1.00        38\n",
      "\n",
      "[[13  0  0]\n",
      " [ 0 16  0]\n",
      " [ 0  0  9]]\n"
     ]
    }
   ],
   "source": [
    "#Probability for continuous data:\n",
    "#Assuming that this probability is a Gaussian curve, we try to find the probability by estimating \n",
    "#the mean and variance in Gaussian Naive Bayes method\n",
    "from sklearn.naive_bayes import GaussianNB\n",
    "clf = GaussianNB()\n",
    "clf.fit(X_train,Y_train)\n",
    "y_pred = clf.predict(X_test)\n",
    "print(classification_report(Y_test,y_pred))\n",
    "print(confusion_matrix(Y_test,y_pred))\n",
    "#We get 100% accuracy!!"
   ]
  },
  {
   "cell_type": "code",
   "execution_count": null,
   "id": "e6dd9bbe",
   "metadata": {},
   "outputs": [],
   "source": []
  }
 ],
 "metadata": {
  "kernelspec": {
   "display_name": "Python 3",
   "language": "python",
   "name": "python3"
  },
  "language_info": {
   "codemirror_mode": {
    "name": "ipython",
    "version": 3
   },
   "file_extension": ".py",
   "mimetype": "text/x-python",
   "name": "python",
   "nbconvert_exporter": "python",
   "pygments_lexer": "ipython3",
   "version": "3.8.8"
  }
 },
 "nbformat": 4,
 "nbformat_minor": 5
}
