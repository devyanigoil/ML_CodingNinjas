{
 "cells": [
  {
   "cell_type": "code",
   "execution_count": 12,
   "id": "647c2b24",
   "metadata": {},
   "outputs": [
    {
     "name": "stdout",
     "output_type": "stream",
     "text": [
      "[[0, 0, 0], [0, 0, 0], [0, 0, 0], [0, 0, 0], [0, 0, 0], [0, 0, 0], [0, 0, 0], [0, 0, 0], [0, 0, 0], [0, 0, 0]]\n",
      "[[0, 1, 2, 3, 4, 5, 6, 7, 8, 9], [0, 1, 2, 3, 4, 5, 6, 7, 8, 9], [0, 1, 2, 3, 4, 5, 6, 7, 8, 9], [0, 1, 2, 3, 4, 5, 6, 7, 8, 9], [0, 1, 2, 3, 4, 5, 6, 7, 8, 9], [0, 1, 2, 3, 4, 5, 6, 7, 8, 9], [0, 1, 2, 3, 4, 5, 6, 7, 8, 9], [0, 1, 2, 3, 4, 5, 6, 7, 8, 9], [0, 1, 2, 3, 4, 5, 6, 7, 8, 9], [0, 1, 2, 3, 4, 5, 6, 7, 8, 9]]\n",
      "[[0, 1, 2, 3, 4, 5, 6, 7, 8, 9], [5, 6, 7, 8, 9, 10, 11, 12, 13, 14], [10, 11, 12, 13, 14, 15, 16, 17, 18, 19], [15, 16, 17, 18, 19, 20, 21, 22, 23, 24], [20, 21, 22, 23, 24, 25, 26, 27, 28, 29], [25, 26, 27, 28, 29, 30, 31, 32, 33, 34], [30, 31, 32, 33, 34, 35, 36, 37, 38, 39], [35, 36, 37, 38, 39, 40, 41, 42, 43, 44], [40, 41, 42, 43, 44, 45, 46, 47, 48, 49], [45, 46, 47, 48, 49, 50, 51, 52, 53, 54]]\n"
     ]
    }
   ],
   "source": [
    "#Creation of 2D Arrays\n",
    "\n",
    "li = [[0,0,0]for i in range(10)]\n",
    "print(li)\n",
    "li2 = [[j for j in range(10)]for i in range(10)]\n",
    "print(li2)\n",
    "li3 = [[5*i+j for j in range(10)]for i in range(10)]\n",
    "print(li3)"
   ]
  },
  {
   "cell_type": "code",
   "execution_count": 15,
   "id": "45c8ff0d",
   "metadata": {},
   "outputs": [
    {
     "name": "stdout",
     "output_type": "stream",
     "text": [
      "2 3\n",
      "1 2 3 4 5 6\n"
     ]
    },
    {
     "data": {
      "text/plain": [
       "[[1, 2, 3], [4, 5, 6]]"
      ]
     },
     "execution_count": 15,
     "metadata": {},
     "output_type": "execute_result"
    }
   ],
   "source": [
    "s = input().strip().split()\n",
    "n = int(s[0])\n",
    "m = int(s[1])\n",
    "\n",
    "l = [int(i) for i in input().strip().split(\" \")]\n",
    "\n",
    "#out=[]\n",
    "#for i in range(n):\n",
    " #   out.append([])\n",
    "  #  for j in range(m):\n",
    "   #     out[i].append(l[i*m+j])\n",
    "#out\n",
    "\n",
    "out2 = [[l[i*m+j]for j in range(m)]for i in range(n)]\n",
    "out2"
   ]
  },
  {
   "cell_type": "code",
   "execution_count": null,
   "id": "260de61e",
   "metadata": {},
   "outputs": [],
   "source": []
  }
 ],
 "metadata": {
  "kernelspec": {
   "display_name": "Python 3",
   "language": "python",
   "name": "python3"
  }
 },
 "nbformat": 4,
 "nbformat_minor": 5
}
