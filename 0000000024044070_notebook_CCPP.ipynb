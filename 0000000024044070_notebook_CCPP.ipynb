{
 "cells": [
  {
   "cell_type": "code",
   "execution_count": 39,
   "metadata": {},
   "outputs": [],
   "source": [
    "import numpy as np\n",
    "import pandas as pd"
   ]
  },
  {
   "cell_type": "code",
   "execution_count": null,
   "metadata": {},
   "outputs": [],
   "source": []
  },
  {
   "cell_type": "code",
   "execution_count": 98,
   "metadata": {},
   "outputs": [],
   "source": [
    "data=pd.read_csv(r\"C:\\Users\\Asus\\Downloads\\CN ML\\CCPP gradient decsent\\ccpp_x_y_train.csv\")"
   ]
  },
  {
   "cell_type": "code",
   "execution_count": 99,
   "metadata": {},
   "outputs": [],
   "source": [
    "df=data.copy()"
   ]
  },
  {
   "cell_type": "code",
   "execution_count": null,
   "metadata": {},
   "outputs": [],
   "source": []
  },
  {
   "cell_type": "code",
   "execution_count": null,
   "metadata": {},
   "outputs": [],
   "source": []
  },
  {
   "cell_type": "code",
   "execution_count": 100,
   "metadata": {},
   "outputs": [
    {
     "data": {
      "text/html": [
       "<div>\n",
       "<style scoped>\n",
       "    .dataframe tbody tr th:only-of-type {\n",
       "        vertical-align: middle;\n",
       "    }\n",
       "\n",
       "    .dataframe tbody tr th {\n",
       "        vertical-align: top;\n",
       "    }\n",
       "\n",
       "    .dataframe thead th {\n",
       "        text-align: right;\n",
       "    }\n",
       "</style>\n",
       "<table border=\"1\" class=\"dataframe\">\n",
       "  <thead>\n",
       "    <tr style=\"text-align: right;\">\n",
       "      <th></th>\n",
       "      <th># T</th>\n",
       "      <th>V</th>\n",
       "      <th>AP</th>\n",
       "      <th>RH</th>\n",
       "      <th>EP</th>\n",
       "    </tr>\n",
       "  </thead>\n",
       "  <tbody>\n",
       "    <tr>\n",
       "      <th>count</th>\n",
       "      <td>7176.000000</td>\n",
       "      <td>7176.000000</td>\n",
       "      <td>7176.000000</td>\n",
       "      <td>7176.000000</td>\n",
       "      <td>7176.000000</td>\n",
       "    </tr>\n",
       "    <tr>\n",
       "      <th>mean</th>\n",
       "      <td>19.629712</td>\n",
       "      <td>54.288154</td>\n",
       "      <td>1013.263032</td>\n",
       "      <td>73.275818</td>\n",
       "      <td>454.431293</td>\n",
       "    </tr>\n",
       "    <tr>\n",
       "      <th>std</th>\n",
       "      <td>7.475256</td>\n",
       "      <td>12.751468</td>\n",
       "      <td>5.964863</td>\n",
       "      <td>14.625093</td>\n",
       "      <td>17.134571</td>\n",
       "    </tr>\n",
       "    <tr>\n",
       "      <th>min</th>\n",
       "      <td>1.810000</td>\n",
       "      <td>25.360000</td>\n",
       "      <td>992.890000</td>\n",
       "      <td>25.560000</td>\n",
       "      <td>420.260000</td>\n",
       "    </tr>\n",
       "    <tr>\n",
       "      <th>25%</th>\n",
       "      <td>13.470000</td>\n",
       "      <td>41.740000</td>\n",
       "      <td>1009.010000</td>\n",
       "      <td>63.202500</td>\n",
       "      <td>439.737500</td>\n",
       "    </tr>\n",
       "    <tr>\n",
       "      <th>50%</th>\n",
       "      <td>20.315000</td>\n",
       "      <td>52.050000</td>\n",
       "      <td>1012.910000</td>\n",
       "      <td>74.895000</td>\n",
       "      <td>451.740000</td>\n",
       "    </tr>\n",
       "    <tr>\n",
       "      <th>75%</th>\n",
       "      <td>25.720000</td>\n",
       "      <td>66.540000</td>\n",
       "      <td>1017.302500</td>\n",
       "      <td>84.925000</td>\n",
       "      <td>468.667500</td>\n",
       "    </tr>\n",
       "    <tr>\n",
       "      <th>max</th>\n",
       "      <td>35.770000</td>\n",
       "      <td>81.560000</td>\n",
       "      <td>1033.300000</td>\n",
       "      <td>100.160000</td>\n",
       "      <td>495.760000</td>\n",
       "    </tr>\n",
       "  </tbody>\n",
       "</table>\n",
       "</div>"
      ],
      "text/plain": [
       "               # T            V           AP           RH           EP\n",
       "count  7176.000000  7176.000000  7176.000000  7176.000000  7176.000000\n",
       "mean     19.629712    54.288154  1013.263032    73.275818   454.431293\n",
       "std       7.475256    12.751468     5.964863    14.625093    17.134571\n",
       "min       1.810000    25.360000   992.890000    25.560000   420.260000\n",
       "25%      13.470000    41.740000  1009.010000    63.202500   439.737500\n",
       "50%      20.315000    52.050000  1012.910000    74.895000   451.740000\n",
       "75%      25.720000    66.540000  1017.302500    84.925000   468.667500\n",
       "max      35.770000    81.560000  1033.300000   100.160000   495.760000"
      ]
     },
     "execution_count": 100,
     "metadata": {},
     "output_type": "execute_result"
    }
   ],
   "source": [
    "df.describe()"
   ]
  },
  {
   "cell_type": "code",
   "execution_count": 101,
   "metadata": {},
   "outputs": [
    {
     "name": "stdout",
     "output_type": "stream",
     "text": [
      "Index(['# T', ' V', ' AP', ' RH'], dtype='object')\n"
     ]
    }
   ],
   "source": [
    "yf=df[\" EP\"]\n",
    "df.drop(\" EP\",axis=1,inplace=True)\n",
    "features=df.columns\n",
    "print(features)\n",
    "b=4\n",
    "for a in features:\n",
    "    df[b]=df[a]*df[a]\n",
    "    b+=1\n",
    "c=8\n",
    "for a in features:\n",
    "    df[c]=df[a]*df[a]*df[a]\n",
    "    c+=1\n",
    "feat=df.columns\n",
    "for i in feat:\n",
    "    df[i]=(df[i]-df[i].mean())/df[i].std() "
   ]
  },
  {
   "cell_type": "code",
   "execution_count": 84,
   "metadata": {},
   "outputs": [
    {
     "name": "stdout",
     "output_type": "stream",
     "text": [
      "(7176, 12)\n"
     ]
    },
    {
     "data": {
      "text/plain": [
       "(7176, 1)"
      ]
     },
     "execution_count": 84,
     "metadata": {},
     "output_type": "execute_result"
    }
   ],
   "source": [
    "da=np.asarray(df)\n",
    "x=da[:,:]\n",
    "da1=np.asarray(yf)\n",
    "y=da1.reshape(-1,1)\n",
    "print(x.shape)\n",
    "y.shape"
   ]
  },
  {
   "cell_type": "code",
   "execution_count": 85,
   "metadata": {},
   "outputs": [
    {
     "name": "stdout",
     "output_type": "stream",
     "text": [
      "(7176, 13)\n"
     ]
    },
    {
     "data": {
      "text/plain": [
       "(7176, 1)"
      ]
     },
     "execution_count": 85,
     "metadata": {},
     "output_type": "execute_result"
    }
   ],
   "source": [
    "x=np.asmatrix(x)\n",
    "y=np.asmatrix(y)\n",
    "c=np.ones((x.shape[0],1))\n",
    "x=np.concatenate((x,c),axis=1)\n",
    "print(x.shape)\n",
    "y.shape"
   ]
  },
  {
   "cell_type": "code",
   "execution_count": 86,
   "metadata": {},
   "outputs": [],
   "source": [
    "def cost(x,y,m):\n",
    "    total=0\n",
    "    for i in range(x.shape[0]):\n",
    "        total=total+(1/x.shape[0])*((y[i]-((x[i]*(np.transpose(m)))))[0][0]**2)\n",
    "    return total\n",
    "def step_grad(x,y,lr,m):\n",
    "    ms=np.zeros(x.shape[1])\n",
    "    ms=np.asmatrix(ms)\n",
    "    for i in range(x.shape[0]):\n",
    "        ms=ms+(-2/(x.shape[0]))*(y[i]-(x[i]*(np.transpose(m))))[0][0]*x[i]\n",
    "    m=m-(lr*ms)\n",
    "    return m\n",
    "def gd(x,y,lr,nit):\n",
    "    m=np.zeros(x.shape[1])\n",
    "    m=np.asmatrix(m)\n",
    "    for i in range(nit):\n",
    "        m=step_grad(x,y,lr,m)\n",
    "        if i%100 == 0:\n",
    "            print(\" Cost at \",i, \"iteration : \", cost(x, y, m))\n",
    "    return m"
   ]
  },
  {
   "cell_type": "code",
   "execution_count": 87,
   "metadata": {},
   "outputs": [
    {
     "name": "stdout",
     "output_type": "stream",
     "text": [
      " Cost at  0 iteration :  [[132260.31810799]]\n",
      " Cost at  100 iteration :  [[20.22438795]]\n",
      " Cost at  200 iteration :  [[18.82932508]]\n",
      " Cost at  300 iteration :  [[18.68285788]]\n",
      " Cost at  400 iteration :  [[18.65844657]]\n"
     ]
    },
    {
     "data": {
      "text/plain": [
       "matrix([[18.64979869]])"
      ]
     },
     "execution_count": 87,
     "metadata": {},
     "output_type": "execute_result"
    }
   ],
   "source": [
    "lr=0.1\n",
    "n=500\n",
    "m=gd(x,y,lr,n)\n",
    "cost(x,y,m)\n"
   ]
  },
  {
   "cell_type": "code",
   "execution_count": 103,
   "metadata": {},
   "outputs": [
    {
     "name": "stdout",
     "output_type": "stream",
     "text": [
      "        # T      V       AP     RH\n",
      "0     12.07  38.25  1012.67  81.66\n",
      "1     26.91  74.99  1005.64  78.98\n",
      "2     20.58  39.53  1005.68  62.09\n",
      "3     16.78  37.20  1011.97  68.94\n",
      "4     22.46  58.49  1011.50  70.54\n",
      "...     ...    ...      ...    ...\n",
      "2386  29.49  69.71  1009.34  56.35\n",
      "2387  27.69  65.34  1014.31  46.59\n",
      "2388  24.32  66.25  1009.09  91.89\n",
      "2389  23.49  42.80  1013.96  65.31\n",
      "2390  21.76  60.27  1018.96  85.06\n",
      "\n",
      "[2391 rows x 4 columns]\n",
      "(2391, 12)\n",
      "[[1.07165253e-27]]\n"
     ]
    },
    {
     "data": {
      "text/plain": [
       "(2391, 1)"
      ]
     },
     "execution_count": 103,
     "metadata": {},
     "output_type": "execute_result"
    }
   ],
   "source": [
    "data1=pd.read_csv(r\"C:\\Users\\Asus\\Downloads\\CN ML\\CCPP gradient decsent\\ccpp_x_test.csv\")\n",
    "df2=data1.copy()\n",
    "df2.columns={'# T', ' V', ' AP', ' RH'}\n",
    "print(df2)\n",
    "features=df2.columns\n",
    "b=4\n",
    "for a in features:\n",
    "    df2[b]=df2[a]*df2[a]\n",
    "    b+=1\n",
    "c=8\n",
    "for a in features:\n",
    "    df2[c]=df2[a]*df2[a]*df2[a]\n",
    "    c+=1\n",
    "feat=df2.columns\n",
    "for i in feat:\n",
    "    df2[i]=(df2[i]-df2[i].mean())/df2[i].std()\n",
    "\n",
    "x1=np.asarray(df2)\n",
    "print(x1.shape)\n",
    "c=np.ones((x1.shape[0],1))\n",
    "x1=np.concatenate((x1,c),axis=1)\n",
    "x1=np.asmatrix(x1)\n",
    "Yp=(x1*(np.transpose(m)))\n",
    "print(cost(x1,Yp,m))\n",
    "Yp.shape"
   ]
  },
  {
   "cell_type": "code",
   "execution_count": 89,
   "metadata": {},
   "outputs": [],
   "source": [
    "np.savetxt(\"ccpp.csv\",Yp,fmt=\"%1.5f\")"
   ]
  },
  {
   "cell_type": "code",
   "execution_count": null,
   "metadata": {},
   "outputs": [],
   "source": []
  }
 ],
 "metadata": {
  "kernelspec": {
   "display_name": "Python 3",
   "language": "python",
   "name": "python3"
  },
  "language_info": {
   "codemirror_mode": {
    "name": "ipython",
    "version": 3
   },
   "file_extension": ".py",
   "mimetype": "text/x-python",
   "name": "python",
   "nbconvert_exporter": "python",
   "pygments_lexer": "ipython3",
   "version": "3.8.8"
  }
 },
 "nbformat": 4,
 "nbformat_minor": 4
}
