{
 "cells": [
  {
   "cell_type": "code",
   "execution_count": 1,
   "id": "5dddfece",
   "metadata": {},
   "outputs": [],
   "source": [
    "import numpy as np\n",
    "from sklearn import svm,datasets\n",
    "from sklearn.model_selection import train_test_split\n",
    "from sklearn.model_selection import GridSearchCV\n",
    "#GridSearchCV helps us finding the most suitable values of variables\n",
    "from sklearn.neighbors import KNeighborsClassifier"
   ]
  },
  {
   "cell_type": "code",
   "execution_count": 2,
   "id": "6c4ff22a",
   "metadata": {},
   "outputs": [],
   "source": [
    "iris = datasets.load_iris()\n",
    "x = iris.data\n",
    "y = iris.target"
   ]
  },
  {
   "cell_type": "code",
   "execution_count": 3,
   "id": "cfa7529a",
   "metadata": {},
   "outputs": [],
   "source": [
    "x_train,x_test,y_train,y_test = train_test_split(x,y)"
   ]
  },
  {
   "cell_type": "code",
   "execution_count": 4,
   "id": "a65bb489",
   "metadata": {},
   "outputs": [
    {
     "data": {
      "text/plain": [
       "GridSearchCV(estimator=KNeighborsClassifier(),\n",
       "             param_grid={'n_neighbors': [3, 5, 7, 9, 11]})"
      ]
     },
     "execution_count": 4,
     "metadata": {},
     "output_type": "execute_result"
    }
   ],
   "source": [
    "#First find out the best value for k for cross validation\n",
    "clf = KNeighborsClassifier()\n",
    "grid = {\"n_neighbors\" : [3,5,7,9,11]}\n",
    "abc = GridSearchCV(clf,grid)\n",
    "abc.fit(x_train,y_train)"
   ]
  },
  {
   "cell_type": "code",
   "execution_count": 5,
   "id": "88c2f3d2",
   "metadata": {},
   "outputs": [
    {
     "data": {
      "text/plain": [
       "KNeighborsClassifier(n_neighbors=9)"
      ]
     },
     "execution_count": 5,
     "metadata": {},
     "output_type": "execute_result"
    }
   ],
   "source": [
    "abc.best_estimator_"
   ]
  },
  {
   "cell_type": "code",
   "execution_count": 6,
   "id": "512aa596",
   "metadata": {},
   "outputs": [
    {
     "data": {
      "text/plain": [
       "{'mean_fit_time': array([0.00326457, 0.00052428, 0.00043273, 0.00044465, 0.00044041]),\n",
       " 'std_fit_time': array([5.13081310e-03, 4.91459290e-05, 1.83968942e-05, 7.16753028e-05,\n",
       "        8.11003708e-05]),\n",
       " 'mean_score_time': array([0.00183258, 0.00163021, 0.00122218, 0.0012486 , 0.00132809]),\n",
       " 'std_score_time': array([2.95342581e-04, 2.67196866e-04, 8.63258859e-05, 1.16170783e-04,\n",
       "        2.03430244e-04]),\n",
       " 'param_n_neighbors': masked_array(data=[3, 5, 7, 9, 11],\n",
       "              mask=[False, False, False, False, False],\n",
       "        fill_value='?',\n",
       "             dtype=object),\n",
       " 'params': [{'n_neighbors': 3},\n",
       "  {'n_neighbors': 5},\n",
       "  {'n_neighbors': 7},\n",
       "  {'n_neighbors': 9},\n",
       "  {'n_neighbors': 11}],\n",
       " 'split0_test_score': array([0.95652174, 0.95652174, 0.95652174, 0.95652174, 0.95652174]),\n",
       " 'split1_test_score': array([0.95652174, 1.        , 1.        , 1.        , 1.        ]),\n",
       " 'split2_test_score': array([0.95454545, 0.95454545, 0.90909091, 0.95454545, 0.95454545]),\n",
       " 'split3_test_score': array([0.90909091, 0.90909091, 0.95454545, 0.95454545, 0.90909091]),\n",
       " 'split4_test_score': array([0.95454545, 0.95454545, 0.95454545, 1.        , 0.95454545]),\n",
       " 'mean_test_score': array([0.94624506, 0.95494071, 0.95494071, 0.97312253, 0.95494071]),\n",
       " 'std_test_score': array([0.01859809, 0.02875885, 0.02875885, 0.02195722, 0.02875885]),\n",
       " 'rank_test_score': array([5, 2, 4, 1, 2], dtype=int32)}"
      ]
     },
     "execution_count": 6,
     "metadata": {},
     "output_type": "execute_result"
    }
   ],
   "source": [
    "abc.cv_results_"
   ]
  },
  {
   "cell_type": "code",
   "execution_count": 8,
   "id": "16266c36",
   "metadata": {},
   "outputs": [
    {
     "data": {
      "text/plain": [
       "GridSearchCV(estimator=SVC(),\n",
       "             param_grid={'C': [100.0, 1000.0, 50000.0, 10000.0, 50000.0,\n",
       "                               100000.0],\n",
       "                         'gamma': [0.0001, 0.0005, 0.0001, 0.005]})"
      ]
     },
     "execution_count": 8,
     "metadata": {},
     "output_type": "execute_result"
    }
   ],
   "source": [
    "#Find the best combination of value of c and gamma\n",
    "clf = svm.SVC()\n",
    "grid = {'C':[1e2,1e3,5e4,1e4,5e4,1e5],\n",
    "       'gamma':[1e-4,5e-4,1e-4,5e-3]}\n",
    "abc = GridSearchCV(clf,grid)\n",
    "abc.fit(x_train,y_train)"
   ]
  },
  {
   "cell_type": "code",
   "execution_count": 9,
   "id": "75b39b72",
   "metadata": {},
   "outputs": [
    {
     "data": {
      "text/plain": [
       "SVC(C=100000.0, gamma=0.0005)"
      ]
     },
     "execution_count": 9,
     "metadata": {},
     "output_type": "execute_result"
    }
   ],
   "source": [
    "abc.best_estimator_"
   ]
  }
 ],
 "metadata": {
  "kernelspec": {
   "display_name": "Python 3",
   "language": "python",
   "name": "python3"
  },
  "language_info": {
   "codemirror_mode": {
    "name": "ipython",
    "version": 3
   },
   "file_extension": ".py",
   "mimetype": "text/x-python",
   "name": "python",
   "nbconvert_exporter": "python",
   "pygments_lexer": "ipython3",
   "version": "3.8.8"
  }
 },
 "nbformat": 4,
 "nbformat_minor": 5
}
