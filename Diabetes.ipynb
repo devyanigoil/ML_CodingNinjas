{
 "cells": [
  {
   "cell_type": "markdown",
   "id": "a2d70dcf",
   "metadata": {},
   "source": [
    "## Imports"
   ]
  },
  {
   "cell_type": "code",
   "execution_count": 253,
   "id": "51a03826",
   "metadata": {},
   "outputs": [],
   "source": [
    "import numpy as np\n",
    "from sklearn import datasets "
   ]
  },
  {
   "cell_type": "markdown",
   "id": "e75c3227",
   "metadata": {},
   "source": [
    "## Importing Dataset"
   ]
  },
  {
   "cell_type": "code",
   "execution_count": 254,
   "id": "ba1e2f11",
   "metadata": {},
   "outputs": [
    {
     "name": "stdout",
     "output_type": "stream",
     "text": [
      "(331, 11) (111, 10)\n"
     ]
    }
   ],
   "source": [
    "train_data = np.genfromtxt(\"diabetes_train.csv\",delimiter=\",\")\n",
    "test_data = np.genfromtxt(\"diabetes_test.csv\",delimiter=\",\")\n",
    "print(train_data.shape,test_data.shape)\n",
    "X_train = train_data[:,0:10]\n",
    "Y_train = train_data[:,10]"
   ]
  },
  {
   "cell_type": "markdown",
   "id": "8a7a5ffe",
   "metadata": {},
   "source": [
    "## Splitting the Data"
   ]
  },
  {
   "cell_type": "code",
   "execution_count": 255,
   "id": "d5777cc0",
   "metadata": {},
   "outputs": [
    {
     "data": {
      "text/plain": [
       "LinearRegression()"
      ]
     },
     "execution_count": 255,
     "metadata": {},
     "output_type": "execute_result"
    }
   ],
   "source": [
    "from sklearn.linear_model import LinearRegression\n",
    "alg1 = LinearRegression()\n",
    "alg1.fit(X_train,Y_train)"
   ]
  },
  {
   "cell_type": "markdown",
   "id": "ba544730",
   "metadata": {},
   "source": [
    "## Applying Linear Regression"
   ]
  },
  {
   "cell_type": "code",
   "execution_count": 256,
   "id": "02e6bf04",
   "metadata": {},
   "outputs": [],
   "source": [
    "Y_pred = alg1.predict(test_data)"
   ]
  },
  {
   "cell_type": "code",
   "execution_count": 257,
   "id": "c25647e4",
   "metadata": {},
   "outputs": [
    {
     "name": "stdout",
     "output_type": "stream",
     "text": [
      "[105.52975 105.80392 178.60857  79.38288  52.95869  98.87264 150.71755\n",
      "  34.86515 113.13536 161.50184 135.86156  94.71592 138.48094 141.37442\n",
      " 158.76863 171.65289 106.44836 103.9266   95.38694 167.40118 166.53426\n",
      " 101.53465 252.45036 147.02259 214.78907 161.27557 210.61315  71.78092\n",
      " 189.65032 206.61343 219.98643 168.80193 116.84846 178.744    77.03247\n",
      "  59.54633 111.56738 156.95187 154.59591 198.94457 115.53884 153.46699\n",
      "  84.9618  113.70337 142.14156 147.3104   82.78072  77.89237 128.99006\n",
      " 261.58712 213.31188 243.98791 167.68132 183.69712 166.85927 202.1144\n",
      " 220.39236 172.40288 176.60898 109.04657 276.3779   90.99942 289.37221\n",
      " 119.56253  75.45688 180.78599 146.62093 156.42382  41.07904 247.90645\n",
      " 207.99121  90.09641 222.2417  189.86378 182.26954 164.39881 190.27067\n",
      " 105.44868 199.86136 245.79639 123.20281 119.41032 145.8662  206.19247\n",
      " 150.86282 142.23222 154.56875 115.29233 134.0781  118.42225 203.57676\n",
      " 170.66484 127.4098   57.13508 231.92227 185.20714 187.37495  83.55921\n",
      " 185.42586 217.34036 108.86715  80.98715 127.05524 242.00739 155.97234\n",
      " 125.67575 246.41236 234.96393 191.51298 168.33254 163.02965]\n",
      "[105.52975 105.80392 178.60857  79.38288  52.95869  98.87264 150.71755\n",
      "  34.86515 113.13536 161.50184 135.86156  94.71592 138.48094 141.37442\n",
      " 158.76863 171.65289 106.44836 103.9266   95.38694 167.40118 166.53426\n",
      " 101.53465 252.45036 147.02259 214.78907 161.27557 210.61315  71.78092\n",
      " 189.65032 206.61343 219.98643 168.80193 116.84846 178.744    77.03247\n",
      "  59.54633 111.56738 156.95187 154.59591 198.94457 115.53884 153.46699\n",
      "  84.9618  113.70337 142.14156 147.3104   82.78072  77.89237 128.99006\n",
      " 261.58712 213.31188 243.98791 167.68132 183.69712 166.85927 202.1144\n",
      " 220.39236 172.40288 176.60898 109.04657 276.3779   90.99942 289.37221\n",
      " 119.56253  75.45688 180.78599 146.62093 156.42382  41.07904 247.90645\n",
      " 207.99121  90.09641 222.2417  189.86378 182.26954 164.39881 190.27067\n",
      " 105.44868 199.86136 245.79639 123.20281 119.41032 145.8662  206.19247\n",
      " 150.86282 142.23222 154.56875 115.29233 134.0781  118.42225 203.57676\n",
      " 170.66484 127.4098   57.13508 231.92227 185.20714 187.37495  83.55921\n",
      " 185.42586 217.34036 108.86715  80.98715 127.05524 242.00739 155.97234\n",
      " 125.67575 246.41236 234.96393 191.51298 168.33254 163.02965]\n"
     ]
    }
   ],
   "source": [
    "print(Y_pred)\n",
    "\n",
    "np.savetxt(\"test_submit.csv\",Y_pred,delimiter=',',fmt=\"%.5f\")\n",
    "\n",
    "test_check = np.loadtxt(\"test_submit.csv\",delimiter = ',')\n",
    "print(test_check)"
   ]
  },
  {
   "cell_type": "code",
   "execution_count": null,
   "id": "9a9bb643",
   "metadata": {},
   "outputs": [],
   "source": []
  }
 ],
 "metadata": {
  "kernelspec": {
   "display_name": "Python 3",
   "language": "python",
   "name": "python3"
  },
  "language_info": {
   "codemirror_mode": {
    "name": "ipython",
    "version": 3
   },
   "file_extension": ".py",
   "mimetype": "text/x-python",
   "name": "python",
   "nbconvert_exporter": "python",
   "pygments_lexer": "ipython3",
   "version": "3.8.8"
  }
 },
 "nbformat": 4,
 "nbformat_minor": 5
}
