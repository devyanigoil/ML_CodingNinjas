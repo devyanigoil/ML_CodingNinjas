{
 "cells": [
  {
   "cell_type": "markdown",
   "id": "d389d93e",
   "metadata": {},
   "source": [
    "# Decision Tree Implementation from scratch"
   ]
  },
  {
   "cell_type": "code",
   "execution_count": 1,
   "id": "4aa799fd",
   "metadata": {},
   "outputs": [],
   "source": [
    "#Necessary imports\n",
    "from sklearn import datasets\n",
    "from sklearn.tree import DecisionTreeClassifier\n",
    "from sklearn.model_selection import train_test_split\n",
    "import numpy as np\n",
    "import pandas as pd\n",
    "import math"
   ]
  },
  {
   "cell_type": "code",
   "execution_count": 2,
   "id": "13c1331b",
   "metadata": {},
   "outputs": [
    {
     "name": "stdout",
     "output_type": "stream",
     "text": [
      "(150, 4)\n",
      "(150, 1)\n",
      "No. of training examples: (120, 5)\n",
      "No. of testing examples: (30, 5)\n"
     ]
    }
   ],
   "source": [
    "#Loading the dataset\n",
    "iris_data = datasets.load_iris()\n",
    "print(iris_data.data.shape)\n",
    "y = iris_data.target.reshape(-1,1)\n",
    "print(y.shape)\n",
    "\n",
    "#Concatenating data and taget values using np.hstack\n",
    "iris = np.hstack((iris_data.data,y))\n",
    "\n",
    "#Randomly shuffling numpy array\n",
    "np.random.shuffle(iris)\n",
    "\n",
    "#Dividing the data into testing and training\n",
    "training, test = iris[:120,:], iris[120:,:]\n",
    "\n",
    "print(\"No. of training examples:\", training.shape)\n",
    "print(\"No. of testing examples:\", test.shape)"
   ]
  },
  {
   "cell_type": "code",
   "execution_count": 3,
   "id": "e3e1e41b",
   "metadata": {},
   "outputs": [],
   "source": [
    "def class_counts(rows):\n",
    "    \"\"\"This function will take some rows of dataset and \n",
    "will return a dictionary mapping each label with number of rows for that label\"\"\"\n",
    "    d = {}\n",
    "    for row in rows:\n",
    "        if row[-1] not in d:\n",
    "            d[row[-1]]=0\n",
    "        d[row[-1]]+=1\n",
    "    return d          "
   ]
  },
  {
   "cell_type": "code",
   "execution_count": 4,
   "id": "ec59c0e2",
   "metadata": {},
   "outputs": [],
   "source": [
    "class Question:\n",
    "    \"\"\"This class will help in creating Question objects having two properties:\n",
    " (i) column/feature and (ii) value for that feature.\n",
    " we can have a method in this class to check whether given example matches the value for the \n",
    " feature in this Question or not.\n",
    " It will be useful in partitioning the data based on a particular value for a particular feature/column.\"\"\"\n",
    "    def __init__(self,col,val):\n",
    "        self.col = col\n",
    "        self.val = val\n",
    "    \n",
    "    def match(self,example):\n",
    "        value = example[self.col]\n",
    "        return value >= self.val    "
   ]
  },
  {
   "cell_type": "code",
   "execution_count": 5,
   "id": "46e128a2",
   "metadata": {},
   "outputs": [],
   "source": [
    "def partition(rows,question):\n",
    "    \"\"\"This function takes list of rows (examples) and after checking for each example, \n",
    "    whether it matches the feature value in question or not, it will return two separate list of rows\"\"\"\n",
    "    true_rows,false_rows = [],[]\n",
    "    for row in rows:\n",
    "        if question.match(row):\n",
    "            true_rows.append(row)\n",
    "        else:\n",
    "            false_rows.append(row)\n",
    "    return true_rows,false_rows"
   ]
  },
  {
   "cell_type": "code",
   "execution_count": 6,
   "id": "8286c554",
   "metadata": {},
   "outputs": [],
   "source": [
    "def entropy(rows):\n",
    "    \"\"\"This function will take some rows of the dataset and return the entropy of these set of rows.\n",
    " It will be used in calculating the info gain for a split based on a question.\"\"\"\n",
    "    d = class_counts(rows)\n",
    "    ent=0\n",
    "    for i in d:\n",
    "        v = d[i]/len(rows)\n",
    "        ent += (-1*v*math.log(v,10))\n",
    "    return ent"
   ]
  },
  {
   "cell_type": "code",
   "execution_count": 7,
   "id": "dbec44bb",
   "metadata": {},
   "outputs": [],
   "source": [
    "def info_gain(true_rows,false_rows,current_entropy):\n",
    "    \"\"\"This function will take the current entropy of the dataset and two different sets of rows after split\n",
    " It will calculate the entropy for these two set of rows using entropy function above\n",
    " and will return the info gain for that split\n",
    " It will be useful in finding the best split for dataset/ given rows.\"\"\"\n",
    "    p = len(true_rows)/(len(true_rows)+len(false_rows))\n",
    "    gain = current_entropy - p*entropy(true_rows) - (1-p)*entropy(false_rows)\n",
    "    return gain"
   ]
  },
  {
   "cell_type": "code",
   "execution_count": 8,
   "id": "910150bd",
   "metadata": {},
   "outputs": [],
   "source": [
    "def best_split(rows):\n",
    "    \"\"\"This function will take a set of examples i.e. rows as input\n",
    " and return the max info gain and corresponding question.\"\"\"\n",
    "    best_gain=0\n",
    "    best_question = None\n",
    "    current_entropy = entropy(rows)\n",
    "    n_features = len(rows[0])-1\n",
    "    for col in range(n_features): #Iterate over each column\n",
    "        values = class_counts(rows) \n",
    "        for val in values:  #Iterate over each of the unique values fo the column\n",
    "            question = Question(col,val)\n",
    "            true_rows,false_rows = partition(rows,question)\n",
    "            if len(true_rows)==0 or len(false_rows)==0:\n",
    "                continue\n",
    "            gain = info_gain(true_rows,false_rows,current_entropy)\n",
    "            if gain>best_gain:\n",
    "                best_gain,best_question = gain,question\n",
    "    return best_gain,best_question #find and return the max gain and best question"
   ]
  },
  {
   "cell_type": "code",
   "execution_count": 9,
   "id": "b73dae78",
   "metadata": {},
   "outputs": [],
   "source": [
    "class Leaf:\n",
    "    \"\"\"Unlike Decision Node, it just gives label for the example that reaches this leaf node.\n",
    " It just holds a dictionary mapping as obtained from class_counts function above for given set of rows.\"\"\"\n",
    "    def __init__(self,rows):\n",
    "        self.predictions = class_counts(rows)\n",
    "        "
   ]
  },
  {
   "cell_type": "code",
   "execution_count": 10,
   "id": "c4fcd59b",
   "metadata": {},
   "outputs": [],
   "source": [
    "class Decision_Node:\n",
    "    \"\"\"It will have three properties\n",
    " (i) question\n",
    " (ii) child node representing true branch\n",
    " (iii) child node representing false branch\"\"\"\n",
    "    def __init__(self,question,true_branch,false_branch):\n",
    "        self.question = question\n",
    "        self.true_branch = true_branch\n",
    "        self.false_branch = false_branch"
   ]
  },
  {
   "cell_type": "code",
   "execution_count": 11,
   "id": "397c9610",
   "metadata": {},
   "outputs": [],
   "source": [
    "def build_tree(rows,i):\n",
    "    \"\"\"This function will build the tree recursively and return the root node of the tree\"\"\"\n",
    "    gain,question = best_split(rows) #find gain and question using best_split function\n",
    "    print(\"\\nLevel:\",i)\n",
    "    if gain==0: #check for base case i.e. no further split is possible (gain = 0), then return Leaf\n",
    "        print(f\"Count of {rows[0][-1]}:\",len(rows))\n",
    "        print(\"Current Entropy: 0.0\")\n",
    "        print(\"Reached Leaf Node\")\n",
    "        return Leaf(rows)\n",
    "    \n",
    "    #otherwise do the partition using partition function above and get two list of rows say true_rows and false_rows \n",
    "    true_rows,false_rows = partition(rows,question) \n",
    "    \n",
    "    print(\"Count of 0:\",len(false_rows))\n",
    "    print(\"Count of 1:\",len(true_rows))\n",
    "    print(\"Current Entropy:\",entropy(rows))\n",
    "    print(\"Spliting on feature\",question.col)\n",
    "    \n",
    "    #Build true_branch and false_branch by recursively calling on true_rows and false_rows\n",
    "    true_branch = build_tree(true_rows,i+1)\n",
    "    false_branch = build_tree(false_rows,i+1)\n",
    "    \n",
    "    #return the Decision Node with question, true_branch and false_branch\n",
    "    return Decision_Node(question,true_branch,false_branch)"
   ]
  },
  {
   "cell_type": "code",
   "execution_count": 12,
   "id": "a1c1e964",
   "metadata": {},
   "outputs": [
    {
     "name": "stdout",
     "output_type": "stream",
     "text": [
      "\n",
      "Level: 0\n",
      "Count of 0: 39\n",
      "Count of 1: 81\n",
      "Current Entropy: 0.4743415670172454\n",
      "Spliting on feature 2\n",
      "\n",
      "Level: 1\n",
      "Count of 0: 61\n",
      "Count of 1: 20\n",
      "Current Entropy: 0.2970128977723281\n",
      "Spliting on feature 3\n",
      "\n",
      "Level: 2\n",
      "Count of 2.0: 20\n",
      "Current Entropy: 0.0\n",
      "Reached Leaf Node\n",
      "\n",
      "Level: 2\n",
      "Count of 1.0: 61\n",
      "Current Entropy: 0.0\n",
      "Reached Leaf Node\n",
      "\n",
      "Level: 1\n",
      "Count of 0.0: 39\n",
      "Current Entropy: 0.0\n",
      "Reached Leaf Node\n"
     ]
    }
   ],
   "source": [
    "my_tree = build_tree(training,0)"
   ]
  },
  {
   "cell_type": "code",
   "execution_count": 13,
   "id": "6c074c9d",
   "metadata": {},
   "outputs": [
    {
     "name": "stdout",
     "output_type": "stream",
     "text": [
      "\n",
      "Level: 0\n",
      "Count of 0: 2\n",
      "Count of 1: 2\n",
      "Current Entropy: 0.24421905028821553\n",
      "Spliting on feature 0\n",
      "\n",
      "Level: 1\n",
      "Count of 1: 2\n",
      "Current Entropy: 0.0\n",
      "Reached Leaf Node\n",
      "\n",
      "Level: 1\n",
      "Count of 0: 1\n",
      "Count of 1: 1\n",
      "Current Entropy: 0.30102999566398114\n",
      "Spliting on feature 1\n",
      "\n",
      "Level: 2\n",
      "Count of 1: 1\n",
      "Current Entropy: 0.0\n",
      "Reached Leaf Node\n",
      "\n",
      "Level: 2\n",
      "Count of 0: 1\n",
      "Current Entropy: 0.0\n",
      "Reached Leaf Node\n"
     ]
    }
   ],
   "source": [
    "#OR Tree\n",
    "train_data = [[0,0,0],\n",
    "              [0,1,1],\n",
    "              [1,0,1],\n",
    "              [1,1,1]]\n",
    "tree = build_tree(train_data,0)"
   ]
  },
  {
   "cell_type": "code",
   "execution_count": null,
   "id": "082cb1bd",
   "metadata": {},
   "outputs": [],
   "source": []
  }
 ],
 "metadata": {
  "kernelspec": {
   "display_name": "Python 3",
   "language": "python",
   "name": "python3"
  },
  "language_info": {
   "codemirror_mode": {
    "name": "ipython",
    "version": 3
   },
   "file_extension": ".py",
   "mimetype": "text/x-python",
   "name": "python",
   "nbconvert_exporter": "python",
   "pygments_lexer": "ipython3",
   "version": "3.8.8"
  }
 },
 "nbformat": 4,
 "nbformat_minor": 5
}
